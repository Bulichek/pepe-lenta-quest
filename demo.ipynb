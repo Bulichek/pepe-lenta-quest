{
  "nbformat": 4,
  "nbformat_minor": 0,
  "metadata": {
    "colab": {
      "name": "Lenta Hack",
      "provenance": [],
      "collapsed_sections": [],
      "toc_visible": true
    },
    "kernelspec": {
      "name": "python3",
      "display_name": "Python 3"
    },
    "accelerator": "GPU",
    "widgets": {
      "application/vnd.jupyter.widget-state+json": {
        "8b15191521444c119e09e0835a4b3d8d": {
          "model_module": "@jupyter-widgets/controls",
          "model_name": "HBoxModel",
          "state": {
            "_view_name": "HBoxView",
            "_dom_classes": [],
            "_model_name": "HBoxModel",
            "_view_module": "@jupyter-widgets/controls",
            "_model_module_version": "1.5.0",
            "_view_count": null,
            "_view_module_version": "1.5.0",
            "box_style": "",
            "layout": "IPY_MODEL_fa5cc740311348038c6430c5107f9e55",
            "_model_module": "@jupyter-widgets/controls",
            "children": [
              "IPY_MODEL_12bba62c50bb4f6f9eacf45577421e63",
              "IPY_MODEL_2b82dd7b76df40f49dddd0e7be924d42"
            ]
          }
        },
        "fa5cc740311348038c6430c5107f9e55": {
          "model_module": "@jupyter-widgets/base",
          "model_name": "LayoutModel",
          "state": {
            "_view_name": "LayoutView",
            "grid_template_rows": null,
            "right": null,
            "justify_content": null,
            "_view_module": "@jupyter-widgets/base",
            "overflow": null,
            "_model_module_version": "1.2.0",
            "_view_count": null,
            "flex_flow": null,
            "width": null,
            "min_width": null,
            "border": null,
            "align_items": null,
            "bottom": null,
            "_model_module": "@jupyter-widgets/base",
            "top": null,
            "grid_column": null,
            "overflow_y": null,
            "overflow_x": null,
            "grid_auto_flow": null,
            "grid_area": null,
            "grid_template_columns": null,
            "flex": null,
            "_model_name": "LayoutModel",
            "justify_items": null,
            "grid_row": null,
            "max_height": null,
            "align_content": null,
            "visibility": null,
            "align_self": null,
            "height": null,
            "min_height": null,
            "padding": null,
            "grid_auto_rows": null,
            "grid_gap": null,
            "max_width": null,
            "order": null,
            "_view_module_version": "1.2.0",
            "grid_template_areas": null,
            "object_position": null,
            "object_fit": null,
            "grid_auto_columns": null,
            "margin": null,
            "display": null,
            "left": null
          }
        },
        "12bba62c50bb4f6f9eacf45577421e63": {
          "model_module": "@jupyter-widgets/controls",
          "model_name": "FloatProgressModel",
          "state": {
            "_view_name": "ProgressView",
            "style": "IPY_MODEL_37c4e2e6f69d488f874aabdb3ad56d8b",
            "_dom_classes": [],
            "description": "100%",
            "_model_name": "FloatProgressModel",
            "bar_style": "success",
            "max": 50,
            "_view_module": "@jupyter-widgets/controls",
            "_model_module_version": "1.5.0",
            "value": 50,
            "_view_count": null,
            "_view_module_version": "1.5.0",
            "orientation": "horizontal",
            "min": 0,
            "description_tooltip": null,
            "_model_module": "@jupyter-widgets/controls",
            "layout": "IPY_MODEL_865ee6eb728f4c758b1b216a9c948ebc"
          }
        },
        "2b82dd7b76df40f49dddd0e7be924d42": {
          "model_module": "@jupyter-widgets/controls",
          "model_name": "HTMLModel",
          "state": {
            "_view_name": "HTMLView",
            "style": "IPY_MODEL_e120a7dfd93642329baca9489ba344d5",
            "_dom_classes": [],
            "description": "",
            "_model_name": "HTMLModel",
            "placeholder": "​",
            "_view_module": "@jupyter-widgets/controls",
            "_model_module_version": "1.5.0",
            "value": " 50/50 [02:19&lt;00:00,  2.78s/it, loss=0.079]",
            "_view_count": null,
            "_view_module_version": "1.5.0",
            "description_tooltip": null,
            "_model_module": "@jupyter-widgets/controls",
            "layout": "IPY_MODEL_6fbca20075a2402fa70440d273536ea8"
          }
        },
        "37c4e2e6f69d488f874aabdb3ad56d8b": {
          "model_module": "@jupyter-widgets/controls",
          "model_name": "ProgressStyleModel",
          "state": {
            "_view_name": "StyleView",
            "_model_name": "ProgressStyleModel",
            "description_width": "initial",
            "_view_module": "@jupyter-widgets/base",
            "_model_module_version": "1.5.0",
            "_view_count": null,
            "_view_module_version": "1.2.0",
            "bar_color": null,
            "_model_module": "@jupyter-widgets/controls"
          }
        },
        "865ee6eb728f4c758b1b216a9c948ebc": {
          "model_module": "@jupyter-widgets/base",
          "model_name": "LayoutModel",
          "state": {
            "_view_name": "LayoutView",
            "grid_template_rows": null,
            "right": null,
            "justify_content": null,
            "_view_module": "@jupyter-widgets/base",
            "overflow": null,
            "_model_module_version": "1.2.0",
            "_view_count": null,
            "flex_flow": null,
            "width": null,
            "min_width": null,
            "border": null,
            "align_items": null,
            "bottom": null,
            "_model_module": "@jupyter-widgets/base",
            "top": null,
            "grid_column": null,
            "overflow_y": null,
            "overflow_x": null,
            "grid_auto_flow": null,
            "grid_area": null,
            "grid_template_columns": null,
            "flex": null,
            "_model_name": "LayoutModel",
            "justify_items": null,
            "grid_row": null,
            "max_height": null,
            "align_content": null,
            "visibility": null,
            "align_self": null,
            "height": null,
            "min_height": null,
            "padding": null,
            "grid_auto_rows": null,
            "grid_gap": null,
            "max_width": null,
            "order": null,
            "_view_module_version": "1.2.0",
            "grid_template_areas": null,
            "object_position": null,
            "object_fit": null,
            "grid_auto_columns": null,
            "margin": null,
            "display": null,
            "left": null
          }
        },
        "e120a7dfd93642329baca9489ba344d5": {
          "model_module": "@jupyter-widgets/controls",
          "model_name": "DescriptionStyleModel",
          "state": {
            "_view_name": "StyleView",
            "_model_name": "DescriptionStyleModel",
            "description_width": "",
            "_view_module": "@jupyter-widgets/base",
            "_model_module_version": "1.5.0",
            "_view_count": null,
            "_view_module_version": "1.2.0",
            "_model_module": "@jupyter-widgets/controls"
          }
        },
        "6fbca20075a2402fa70440d273536ea8": {
          "model_module": "@jupyter-widgets/base",
          "model_name": "LayoutModel",
          "state": {
            "_view_name": "LayoutView",
            "grid_template_rows": null,
            "right": null,
            "justify_content": null,
            "_view_module": "@jupyter-widgets/base",
            "overflow": null,
            "_model_module_version": "1.2.0",
            "_view_count": null,
            "flex_flow": null,
            "width": null,
            "min_width": null,
            "border": null,
            "align_items": null,
            "bottom": null,
            "_model_module": "@jupyter-widgets/base",
            "top": null,
            "grid_column": null,
            "overflow_y": null,
            "overflow_x": null,
            "grid_auto_flow": null,
            "grid_area": null,
            "grid_template_columns": null,
            "flex": null,
            "_model_name": "LayoutModel",
            "justify_items": null,
            "grid_row": null,
            "max_height": null,
            "align_content": null,
            "visibility": null,
            "align_self": null,
            "height": null,
            "min_height": null,
            "padding": null,
            "grid_auto_rows": null,
            "grid_gap": null,
            "max_width": null,
            "order": null,
            "_view_module_version": "1.2.0",
            "grid_template_areas": null,
            "object_position": null,
            "object_fit": null,
            "grid_auto_columns": null,
            "margin": null,
            "display": null,
            "left": null
          }
        },
        "bdbc265393ef437e89a60f11558704c4": {
          "model_module": "@jupyter-widgets/controls",
          "model_name": "HBoxModel",
          "state": {
            "_view_name": "HBoxView",
            "_dom_classes": [],
            "_model_name": "HBoxModel",
            "_view_module": "@jupyter-widgets/controls",
            "_model_module_version": "1.5.0",
            "_view_count": null,
            "_view_module_version": "1.5.0",
            "box_style": "",
            "layout": "IPY_MODEL_805b20051eb64ba5bf81830c90a95b28",
            "_model_module": "@jupyter-widgets/controls",
            "children": [
              "IPY_MODEL_60b53df9a6924419ba432649b4bf317a",
              "IPY_MODEL_c3b5bb63d999448b8bc7fb92d926ac26"
            ]
          }
        },
        "805b20051eb64ba5bf81830c90a95b28": {
          "model_module": "@jupyter-widgets/base",
          "model_name": "LayoutModel",
          "state": {
            "_view_name": "LayoutView",
            "grid_template_rows": null,
            "right": null,
            "justify_content": null,
            "_view_module": "@jupyter-widgets/base",
            "overflow": null,
            "_model_module_version": "1.2.0",
            "_view_count": null,
            "flex_flow": null,
            "width": null,
            "min_width": null,
            "border": null,
            "align_items": null,
            "bottom": null,
            "_model_module": "@jupyter-widgets/base",
            "top": null,
            "grid_column": null,
            "overflow_y": null,
            "overflow_x": null,
            "grid_auto_flow": null,
            "grid_area": null,
            "grid_template_columns": null,
            "flex": null,
            "_model_name": "LayoutModel",
            "justify_items": null,
            "grid_row": null,
            "max_height": null,
            "align_content": null,
            "visibility": null,
            "align_self": null,
            "height": null,
            "min_height": null,
            "padding": null,
            "grid_auto_rows": null,
            "grid_gap": null,
            "max_width": null,
            "order": null,
            "_view_module_version": "1.2.0",
            "grid_template_areas": null,
            "object_position": null,
            "object_fit": null,
            "grid_auto_columns": null,
            "margin": null,
            "display": null,
            "left": null
          }
        },
        "60b53df9a6924419ba432649b4bf317a": {
          "model_module": "@jupyter-widgets/controls",
          "model_name": "FloatProgressModel",
          "state": {
            "_view_name": "ProgressView",
            "style": "IPY_MODEL_fa8e88e0db4241c3b2661580e7ec9fe8",
            "_dom_classes": [],
            "description": "100%",
            "_model_name": "FloatProgressModel",
            "bar_style": "success",
            "max": 50,
            "_view_module": "@jupyter-widgets/controls",
            "_model_module_version": "1.5.0",
            "value": 50,
            "_view_count": null,
            "_view_module_version": "1.5.0",
            "orientation": "horizontal",
            "min": 0,
            "description_tooltip": null,
            "_model_module": "@jupyter-widgets/controls",
            "layout": "IPY_MODEL_c8649c6a988d493fbd8eb3480658a90d"
          }
        },
        "c3b5bb63d999448b8bc7fb92d926ac26": {
          "model_module": "@jupyter-widgets/controls",
          "model_name": "HTMLModel",
          "state": {
            "_view_name": "HTMLView",
            "style": "IPY_MODEL_aedd34e2b9ad4edfb16d05fbe860c45f",
            "_dom_classes": [],
            "description": "",
            "_model_name": "HTMLModel",
            "placeholder": "​",
            "_view_module": "@jupyter-widgets/controls",
            "_model_module_version": "1.5.0",
            "value": " 50/50 [01:36&lt;00:00,  1.93s/it, loss=0.0135]",
            "_view_count": null,
            "_view_module_version": "1.5.0",
            "description_tooltip": null,
            "_model_module": "@jupyter-widgets/controls",
            "layout": "IPY_MODEL_0dd485be380e42ce8c618190dc1ecfe6"
          }
        },
        "fa8e88e0db4241c3b2661580e7ec9fe8": {
          "model_module": "@jupyter-widgets/controls",
          "model_name": "ProgressStyleModel",
          "state": {
            "_view_name": "StyleView",
            "_model_name": "ProgressStyleModel",
            "description_width": "initial",
            "_view_module": "@jupyter-widgets/base",
            "_model_module_version": "1.5.0",
            "_view_count": null,
            "_view_module_version": "1.2.0",
            "bar_color": null,
            "_model_module": "@jupyter-widgets/controls"
          }
        },
        "c8649c6a988d493fbd8eb3480658a90d": {
          "model_module": "@jupyter-widgets/base",
          "model_name": "LayoutModel",
          "state": {
            "_view_name": "LayoutView",
            "grid_template_rows": null,
            "right": null,
            "justify_content": null,
            "_view_module": "@jupyter-widgets/base",
            "overflow": null,
            "_model_module_version": "1.2.0",
            "_view_count": null,
            "flex_flow": null,
            "width": null,
            "min_width": null,
            "border": null,
            "align_items": null,
            "bottom": null,
            "_model_module": "@jupyter-widgets/base",
            "top": null,
            "grid_column": null,
            "overflow_y": null,
            "overflow_x": null,
            "grid_auto_flow": null,
            "grid_area": null,
            "grid_template_columns": null,
            "flex": null,
            "_model_name": "LayoutModel",
            "justify_items": null,
            "grid_row": null,
            "max_height": null,
            "align_content": null,
            "visibility": null,
            "align_self": null,
            "height": null,
            "min_height": null,
            "padding": null,
            "grid_auto_rows": null,
            "grid_gap": null,
            "max_width": null,
            "order": null,
            "_view_module_version": "1.2.0",
            "grid_template_areas": null,
            "object_position": null,
            "object_fit": null,
            "grid_auto_columns": null,
            "margin": null,
            "display": null,
            "left": null
          }
        },
        "aedd34e2b9ad4edfb16d05fbe860c45f": {
          "model_module": "@jupyter-widgets/controls",
          "model_name": "DescriptionStyleModel",
          "state": {
            "_view_name": "StyleView",
            "_model_name": "DescriptionStyleModel",
            "description_width": "",
            "_view_module": "@jupyter-widgets/base",
            "_model_module_version": "1.5.0",
            "_view_count": null,
            "_view_module_version": "1.2.0",
            "_model_module": "@jupyter-widgets/controls"
          }
        },
        "0dd485be380e42ce8c618190dc1ecfe6": {
          "model_module": "@jupyter-widgets/base",
          "model_name": "LayoutModel",
          "state": {
            "_view_name": "LayoutView",
            "grid_template_rows": null,
            "right": null,
            "justify_content": null,
            "_view_module": "@jupyter-widgets/base",
            "overflow": null,
            "_model_module_version": "1.2.0",
            "_view_count": null,
            "flex_flow": null,
            "width": null,
            "min_width": null,
            "border": null,
            "align_items": null,
            "bottom": null,
            "_model_module": "@jupyter-widgets/base",
            "top": null,
            "grid_column": null,
            "overflow_y": null,
            "overflow_x": null,
            "grid_auto_flow": null,
            "grid_area": null,
            "grid_template_columns": null,
            "flex": null,
            "_model_name": "LayoutModel",
            "justify_items": null,
            "grid_row": null,
            "max_height": null,
            "align_content": null,
            "visibility": null,
            "align_self": null,
            "height": null,
            "min_height": null,
            "padding": null,
            "grid_auto_rows": null,
            "grid_gap": null,
            "max_width": null,
            "order": null,
            "_view_module_version": "1.2.0",
            "grid_template_areas": null,
            "object_position": null,
            "object_fit": null,
            "grid_auto_columns": null,
            "margin": null,
            "display": null,
            "left": null
          }
        },
        "d44c69fa6f3447f6bab7b7a472e28a49": {
          "model_module": "@jupyter-widgets/controls",
          "model_name": "HBoxModel",
          "state": {
            "_view_name": "HBoxView",
            "_dom_classes": [],
            "_model_name": "HBoxModel",
            "_view_module": "@jupyter-widgets/controls",
            "_model_module_version": "1.5.0",
            "_view_count": null,
            "_view_module_version": "1.5.0",
            "box_style": "",
            "layout": "IPY_MODEL_fbb9a1b56971491d89d7120d3f71e9b6",
            "_model_module": "@jupyter-widgets/controls",
            "children": [
              "IPY_MODEL_34be84e1d62d4027aba4d93ec6d4f666",
              "IPY_MODEL_b6f30c2486984455beea7fbfd9acb435"
            ]
          }
        },
        "fbb9a1b56971491d89d7120d3f71e9b6": {
          "model_module": "@jupyter-widgets/base",
          "model_name": "LayoutModel",
          "state": {
            "_view_name": "LayoutView",
            "grid_template_rows": null,
            "right": null,
            "justify_content": null,
            "_view_module": "@jupyter-widgets/base",
            "overflow": null,
            "_model_module_version": "1.2.0",
            "_view_count": null,
            "flex_flow": null,
            "width": null,
            "min_width": null,
            "border": null,
            "align_items": null,
            "bottom": null,
            "_model_module": "@jupyter-widgets/base",
            "top": null,
            "grid_column": null,
            "overflow_y": null,
            "overflow_x": null,
            "grid_auto_flow": null,
            "grid_area": null,
            "grid_template_columns": null,
            "flex": null,
            "_model_name": "LayoutModel",
            "justify_items": null,
            "grid_row": null,
            "max_height": null,
            "align_content": null,
            "visibility": null,
            "align_self": null,
            "height": null,
            "min_height": null,
            "padding": null,
            "grid_auto_rows": null,
            "grid_gap": null,
            "max_width": null,
            "order": null,
            "_view_module_version": "1.2.0",
            "grid_template_areas": null,
            "object_position": null,
            "object_fit": null,
            "grid_auto_columns": null,
            "margin": null,
            "display": null,
            "left": null
          }
        },
        "34be84e1d62d4027aba4d93ec6d4f666": {
          "model_module": "@jupyter-widgets/controls",
          "model_name": "FloatProgressModel",
          "state": {
            "_view_name": "ProgressView",
            "style": "IPY_MODEL_fb56cd01630b46449b5712f198934e19",
            "_dom_classes": [],
            "description": "100%",
            "_model_name": "FloatProgressModel",
            "bar_style": "success",
            "max": 50,
            "_view_module": "@jupyter-widgets/controls",
            "_model_module_version": "1.5.0",
            "value": 50,
            "_view_count": null,
            "_view_module_version": "1.5.0",
            "orientation": "horizontal",
            "min": 0,
            "description_tooltip": null,
            "_model_module": "@jupyter-widgets/controls",
            "layout": "IPY_MODEL_6093cb60755c4c42aff7b4a6ea3d46ee"
          }
        },
        "b6f30c2486984455beea7fbfd9acb435": {
          "model_module": "@jupyter-widgets/controls",
          "model_name": "HTMLModel",
          "state": {
            "_view_name": "HTMLView",
            "style": "IPY_MODEL_00d9f0e0700d4623b3957e81d52b660c",
            "_dom_classes": [],
            "description": "",
            "_model_name": "HTMLModel",
            "placeholder": "​",
            "_view_module": "@jupyter-widgets/controls",
            "_model_module_version": "1.5.0",
            "value": " 50/50 [00:57&lt;00:00,  1.16s/it, loss=0.0645]",
            "_view_count": null,
            "_view_module_version": "1.5.0",
            "description_tooltip": null,
            "_model_module": "@jupyter-widgets/controls",
            "layout": "IPY_MODEL_bdaee322e0c7495b9bbdd2998e68e52e"
          }
        },
        "fb56cd01630b46449b5712f198934e19": {
          "model_module": "@jupyter-widgets/controls",
          "model_name": "ProgressStyleModel",
          "state": {
            "_view_name": "StyleView",
            "_model_name": "ProgressStyleModel",
            "description_width": "initial",
            "_view_module": "@jupyter-widgets/base",
            "_model_module_version": "1.5.0",
            "_view_count": null,
            "_view_module_version": "1.2.0",
            "bar_color": null,
            "_model_module": "@jupyter-widgets/controls"
          }
        },
        "6093cb60755c4c42aff7b4a6ea3d46ee": {
          "model_module": "@jupyter-widgets/base",
          "model_name": "LayoutModel",
          "state": {
            "_view_name": "LayoutView",
            "grid_template_rows": null,
            "right": null,
            "justify_content": null,
            "_view_module": "@jupyter-widgets/base",
            "overflow": null,
            "_model_module_version": "1.2.0",
            "_view_count": null,
            "flex_flow": null,
            "width": null,
            "min_width": null,
            "border": null,
            "align_items": null,
            "bottom": null,
            "_model_module": "@jupyter-widgets/base",
            "top": null,
            "grid_column": null,
            "overflow_y": null,
            "overflow_x": null,
            "grid_auto_flow": null,
            "grid_area": null,
            "grid_template_columns": null,
            "flex": null,
            "_model_name": "LayoutModel",
            "justify_items": null,
            "grid_row": null,
            "max_height": null,
            "align_content": null,
            "visibility": null,
            "align_self": null,
            "height": null,
            "min_height": null,
            "padding": null,
            "grid_auto_rows": null,
            "grid_gap": null,
            "max_width": null,
            "order": null,
            "_view_module_version": "1.2.0",
            "grid_template_areas": null,
            "object_position": null,
            "object_fit": null,
            "grid_auto_columns": null,
            "margin": null,
            "display": null,
            "left": null
          }
        },
        "00d9f0e0700d4623b3957e81d52b660c": {
          "model_module": "@jupyter-widgets/controls",
          "model_name": "DescriptionStyleModel",
          "state": {
            "_view_name": "StyleView",
            "_model_name": "DescriptionStyleModel",
            "description_width": "",
            "_view_module": "@jupyter-widgets/base",
            "_model_module_version": "1.5.0",
            "_view_count": null,
            "_view_module_version": "1.2.0",
            "_model_module": "@jupyter-widgets/controls"
          }
        },
        "bdaee322e0c7495b9bbdd2998e68e52e": {
          "model_module": "@jupyter-widgets/base",
          "model_name": "LayoutModel",
          "state": {
            "_view_name": "LayoutView",
            "grid_template_rows": null,
            "right": null,
            "justify_content": null,
            "_view_module": "@jupyter-widgets/base",
            "overflow": null,
            "_model_module_version": "1.2.0",
            "_view_count": null,
            "flex_flow": null,
            "width": null,
            "min_width": null,
            "border": null,
            "align_items": null,
            "bottom": null,
            "_model_module": "@jupyter-widgets/base",
            "top": null,
            "grid_column": null,
            "overflow_y": null,
            "overflow_x": null,
            "grid_auto_flow": null,
            "grid_area": null,
            "grid_template_columns": null,
            "flex": null,
            "_model_name": "LayoutModel",
            "justify_items": null,
            "grid_row": null,
            "max_height": null,
            "align_content": null,
            "visibility": null,
            "align_self": null,
            "height": null,
            "min_height": null,
            "padding": null,
            "grid_auto_rows": null,
            "grid_gap": null,
            "max_width": null,
            "order": null,
            "_view_module_version": "1.2.0",
            "grid_template_areas": null,
            "object_position": null,
            "object_fit": null,
            "grid_auto_columns": null,
            "margin": null,
            "display": null,
            "left": null
          }
        },
        "56c692b46c1e44eb908c1cc5a1edbbfb": {
          "model_module": "@jupyter-widgets/controls",
          "model_name": "HBoxModel",
          "state": {
            "_view_name": "HBoxView",
            "_dom_classes": [],
            "_model_name": "HBoxModel",
            "_view_module": "@jupyter-widgets/controls",
            "_model_module_version": "1.5.0",
            "_view_count": null,
            "_view_module_version": "1.5.0",
            "box_style": "",
            "layout": "IPY_MODEL_14e7f2c62261400e919df44926b51a08",
            "_model_module": "@jupyter-widgets/controls",
            "children": [
              "IPY_MODEL_65af489a91b0436a80da2f5c8ecdefa0",
              "IPY_MODEL_f8be648e8d464aa7b06ff1c194b25452"
            ]
          }
        },
        "14e7f2c62261400e919df44926b51a08": {
          "model_module": "@jupyter-widgets/base",
          "model_name": "LayoutModel",
          "state": {
            "_view_name": "LayoutView",
            "grid_template_rows": null,
            "right": null,
            "justify_content": null,
            "_view_module": "@jupyter-widgets/base",
            "overflow": null,
            "_model_module_version": "1.2.0",
            "_view_count": null,
            "flex_flow": null,
            "width": null,
            "min_width": null,
            "border": null,
            "align_items": null,
            "bottom": null,
            "_model_module": "@jupyter-widgets/base",
            "top": null,
            "grid_column": null,
            "overflow_y": null,
            "overflow_x": null,
            "grid_auto_flow": null,
            "grid_area": null,
            "grid_template_columns": null,
            "flex": null,
            "_model_name": "LayoutModel",
            "justify_items": null,
            "grid_row": null,
            "max_height": null,
            "align_content": null,
            "visibility": null,
            "align_self": null,
            "height": null,
            "min_height": null,
            "padding": null,
            "grid_auto_rows": null,
            "grid_gap": null,
            "max_width": null,
            "order": null,
            "_view_module_version": "1.2.0",
            "grid_template_areas": null,
            "object_position": null,
            "object_fit": null,
            "grid_auto_columns": null,
            "margin": null,
            "display": null,
            "left": null
          }
        },
        "65af489a91b0436a80da2f5c8ecdefa0": {
          "model_module": "@jupyter-widgets/controls",
          "model_name": "FloatProgressModel",
          "state": {
            "_view_name": "ProgressView",
            "style": "IPY_MODEL_b368f467a4a046319a7143531028cf93",
            "_dom_classes": [],
            "description": "100%",
            "_model_name": "FloatProgressModel",
            "bar_style": "success",
            "max": 50,
            "_view_module": "@jupyter-widgets/controls",
            "_model_module_version": "1.5.0",
            "value": 50,
            "_view_count": null,
            "_view_module_version": "1.5.0",
            "orientation": "horizontal",
            "min": 0,
            "description_tooltip": null,
            "_model_module": "@jupyter-widgets/controls",
            "layout": "IPY_MODEL_7a503fb0a1ee4dab9e1d64720594f4d3"
          }
        },
        "f8be648e8d464aa7b06ff1c194b25452": {
          "model_module": "@jupyter-widgets/controls",
          "model_name": "HTMLModel",
          "state": {
            "_view_name": "HTMLView",
            "style": "IPY_MODEL_5c3c3eda8c434996b9e1ca838ccc1b51",
            "_dom_classes": [],
            "description": "",
            "_model_name": "HTMLModel",
            "placeholder": "​",
            "_view_module": "@jupyter-widgets/controls",
            "_model_module_version": "1.5.0",
            "value": " 50/50 [00:30&lt;00:00,  1.63it/s, loss=0.0455]",
            "_view_count": null,
            "_view_module_version": "1.5.0",
            "description_tooltip": null,
            "_model_module": "@jupyter-widgets/controls",
            "layout": "IPY_MODEL_081e99b5604f4cbeaeb6ded8b5ae6d90"
          }
        },
        "b368f467a4a046319a7143531028cf93": {
          "model_module": "@jupyter-widgets/controls",
          "model_name": "ProgressStyleModel",
          "state": {
            "_view_name": "StyleView",
            "_model_name": "ProgressStyleModel",
            "description_width": "initial",
            "_view_module": "@jupyter-widgets/base",
            "_model_module_version": "1.5.0",
            "_view_count": null,
            "_view_module_version": "1.2.0",
            "bar_color": null,
            "_model_module": "@jupyter-widgets/controls"
          }
        },
        "7a503fb0a1ee4dab9e1d64720594f4d3": {
          "model_module": "@jupyter-widgets/base",
          "model_name": "LayoutModel",
          "state": {
            "_view_name": "LayoutView",
            "grid_template_rows": null,
            "right": null,
            "justify_content": null,
            "_view_module": "@jupyter-widgets/base",
            "overflow": null,
            "_model_module_version": "1.2.0",
            "_view_count": null,
            "flex_flow": null,
            "width": null,
            "min_width": null,
            "border": null,
            "align_items": null,
            "bottom": null,
            "_model_module": "@jupyter-widgets/base",
            "top": null,
            "grid_column": null,
            "overflow_y": null,
            "overflow_x": null,
            "grid_auto_flow": null,
            "grid_area": null,
            "grid_template_columns": null,
            "flex": null,
            "_model_name": "LayoutModel",
            "justify_items": null,
            "grid_row": null,
            "max_height": null,
            "align_content": null,
            "visibility": null,
            "align_self": null,
            "height": null,
            "min_height": null,
            "padding": null,
            "grid_auto_rows": null,
            "grid_gap": null,
            "max_width": null,
            "order": null,
            "_view_module_version": "1.2.0",
            "grid_template_areas": null,
            "object_position": null,
            "object_fit": null,
            "grid_auto_columns": null,
            "margin": null,
            "display": null,
            "left": null
          }
        },
        "5c3c3eda8c434996b9e1ca838ccc1b51": {
          "model_module": "@jupyter-widgets/controls",
          "model_name": "DescriptionStyleModel",
          "state": {
            "_view_name": "StyleView",
            "_model_name": "DescriptionStyleModel",
            "description_width": "",
            "_view_module": "@jupyter-widgets/base",
            "_model_module_version": "1.5.0",
            "_view_count": null,
            "_view_module_version": "1.2.0",
            "_model_module": "@jupyter-widgets/controls"
          }
        },
        "081e99b5604f4cbeaeb6ded8b5ae6d90": {
          "model_module": "@jupyter-widgets/base",
          "model_name": "LayoutModel",
          "state": {
            "_view_name": "LayoutView",
            "grid_template_rows": null,
            "right": null,
            "justify_content": null,
            "_view_module": "@jupyter-widgets/base",
            "overflow": null,
            "_model_module_version": "1.2.0",
            "_view_count": null,
            "flex_flow": null,
            "width": null,
            "min_width": null,
            "border": null,
            "align_items": null,
            "bottom": null,
            "_model_module": "@jupyter-widgets/base",
            "top": null,
            "grid_column": null,
            "overflow_y": null,
            "overflow_x": null,
            "grid_auto_flow": null,
            "grid_area": null,
            "grid_template_columns": null,
            "flex": null,
            "_model_name": "LayoutModel",
            "justify_items": null,
            "grid_row": null,
            "max_height": null,
            "align_content": null,
            "visibility": null,
            "align_self": null,
            "height": null,
            "min_height": null,
            "padding": null,
            "grid_auto_rows": null,
            "grid_gap": null,
            "max_width": null,
            "order": null,
            "_view_module_version": "1.2.0",
            "grid_template_areas": null,
            "object_position": null,
            "object_fit": null,
            "grid_auto_columns": null,
            "margin": null,
            "display": null,
            "left": null
          }
        },
        "87752b6385a149098d22d7625c0990e2": {
          "model_module": "@jupyter-widgets/controls",
          "model_name": "HBoxModel",
          "state": {
            "_view_name": "HBoxView",
            "_dom_classes": [],
            "_model_name": "HBoxModel",
            "_view_module": "@jupyter-widgets/controls",
            "_model_module_version": "1.5.0",
            "_view_count": null,
            "_view_module_version": "1.5.0",
            "box_style": "",
            "layout": "IPY_MODEL_34ec497dd9144e39bbf0d8d649ffba50",
            "_model_module": "@jupyter-widgets/controls",
            "children": [
              "IPY_MODEL_5d302f9b63064e698056ceda4b5d0493",
              "IPY_MODEL_b9ca299b86334db6b94abcee15d66a43"
            ]
          }
        },
        "34ec497dd9144e39bbf0d8d649ffba50": {
          "model_module": "@jupyter-widgets/base",
          "model_name": "LayoutModel",
          "state": {
            "_view_name": "LayoutView",
            "grid_template_rows": null,
            "right": null,
            "justify_content": null,
            "_view_module": "@jupyter-widgets/base",
            "overflow": null,
            "_model_module_version": "1.2.0",
            "_view_count": null,
            "flex_flow": null,
            "width": null,
            "min_width": null,
            "border": null,
            "align_items": null,
            "bottom": null,
            "_model_module": "@jupyter-widgets/base",
            "top": null,
            "grid_column": null,
            "overflow_y": null,
            "overflow_x": null,
            "grid_auto_flow": null,
            "grid_area": null,
            "grid_template_columns": null,
            "flex": null,
            "_model_name": "LayoutModel",
            "justify_items": null,
            "grid_row": null,
            "max_height": null,
            "align_content": null,
            "visibility": null,
            "align_self": null,
            "height": null,
            "min_height": null,
            "padding": null,
            "grid_auto_rows": null,
            "grid_gap": null,
            "max_width": null,
            "order": null,
            "_view_module_version": "1.2.0",
            "grid_template_areas": null,
            "object_position": null,
            "object_fit": null,
            "grid_auto_columns": null,
            "margin": null,
            "display": null,
            "left": null
          }
        },
        "5d302f9b63064e698056ceda4b5d0493": {
          "model_module": "@jupyter-widgets/controls",
          "model_name": "FloatProgressModel",
          "state": {
            "_view_name": "ProgressView",
            "style": "IPY_MODEL_370a299331464cfe8a4af0c233197aea",
            "_dom_classes": [],
            "description": "100%",
            "_model_name": "FloatProgressModel",
            "bar_style": "success",
            "max": 50,
            "_view_module": "@jupyter-widgets/controls",
            "_model_module_version": "1.5.0",
            "value": 50,
            "_view_count": null,
            "_view_module_version": "1.5.0",
            "orientation": "horizontal",
            "min": 0,
            "description_tooltip": null,
            "_model_module": "@jupyter-widgets/controls",
            "layout": "IPY_MODEL_964256a9676b448298987ea68f5934d7"
          }
        },
        "b9ca299b86334db6b94abcee15d66a43": {
          "model_module": "@jupyter-widgets/controls",
          "model_name": "HTMLModel",
          "state": {
            "_view_name": "HTMLView",
            "style": "IPY_MODEL_30aae8c1bfa84002a297cab74a7cdb39",
            "_dom_classes": [],
            "description": "",
            "_model_name": "HTMLModel",
            "placeholder": "​",
            "_view_module": "@jupyter-widgets/controls",
            "_model_module_version": "1.5.0",
            "value": " 50/50 [00:15&lt;00:00,  3.33it/s, loss=0.0212]",
            "_view_count": null,
            "_view_module_version": "1.5.0",
            "description_tooltip": null,
            "_model_module": "@jupyter-widgets/controls",
            "layout": "IPY_MODEL_606fe4b0a35040af933dfa9e6468bc74"
          }
        },
        "370a299331464cfe8a4af0c233197aea": {
          "model_module": "@jupyter-widgets/controls",
          "model_name": "ProgressStyleModel",
          "state": {
            "_view_name": "StyleView",
            "_model_name": "ProgressStyleModel",
            "description_width": "initial",
            "_view_module": "@jupyter-widgets/base",
            "_model_module_version": "1.5.0",
            "_view_count": null,
            "_view_module_version": "1.2.0",
            "bar_color": null,
            "_model_module": "@jupyter-widgets/controls"
          }
        },
        "964256a9676b448298987ea68f5934d7": {
          "model_module": "@jupyter-widgets/base",
          "model_name": "LayoutModel",
          "state": {
            "_view_name": "LayoutView",
            "grid_template_rows": null,
            "right": null,
            "justify_content": null,
            "_view_module": "@jupyter-widgets/base",
            "overflow": null,
            "_model_module_version": "1.2.0",
            "_view_count": null,
            "flex_flow": null,
            "width": null,
            "min_width": null,
            "border": null,
            "align_items": null,
            "bottom": null,
            "_model_module": "@jupyter-widgets/base",
            "top": null,
            "grid_column": null,
            "overflow_y": null,
            "overflow_x": null,
            "grid_auto_flow": null,
            "grid_area": null,
            "grid_template_columns": null,
            "flex": null,
            "_model_name": "LayoutModel",
            "justify_items": null,
            "grid_row": null,
            "max_height": null,
            "align_content": null,
            "visibility": null,
            "align_self": null,
            "height": null,
            "min_height": null,
            "padding": null,
            "grid_auto_rows": null,
            "grid_gap": null,
            "max_width": null,
            "order": null,
            "_view_module_version": "1.2.0",
            "grid_template_areas": null,
            "object_position": null,
            "object_fit": null,
            "grid_auto_columns": null,
            "margin": null,
            "display": null,
            "left": null
          }
        },
        "30aae8c1bfa84002a297cab74a7cdb39": {
          "model_module": "@jupyter-widgets/controls",
          "model_name": "DescriptionStyleModel",
          "state": {
            "_view_name": "StyleView",
            "_model_name": "DescriptionStyleModel",
            "description_width": "",
            "_view_module": "@jupyter-widgets/base",
            "_model_module_version": "1.5.0",
            "_view_count": null,
            "_view_module_version": "1.2.0",
            "_model_module": "@jupyter-widgets/controls"
          }
        },
        "606fe4b0a35040af933dfa9e6468bc74": {
          "model_module": "@jupyter-widgets/base",
          "model_name": "LayoutModel",
          "state": {
            "_view_name": "LayoutView",
            "grid_template_rows": null,
            "right": null,
            "justify_content": null,
            "_view_module": "@jupyter-widgets/base",
            "overflow": null,
            "_model_module_version": "1.2.0",
            "_view_count": null,
            "flex_flow": null,
            "width": null,
            "min_width": null,
            "border": null,
            "align_items": null,
            "bottom": null,
            "_model_module": "@jupyter-widgets/base",
            "top": null,
            "grid_column": null,
            "overflow_y": null,
            "overflow_x": null,
            "grid_auto_flow": null,
            "grid_area": null,
            "grid_template_columns": null,
            "flex": null,
            "_model_name": "LayoutModel",
            "justify_items": null,
            "grid_row": null,
            "max_height": null,
            "align_content": null,
            "visibility": null,
            "align_self": null,
            "height": null,
            "min_height": null,
            "padding": null,
            "grid_auto_rows": null,
            "grid_gap": null,
            "max_width": null,
            "order": null,
            "_view_module_version": "1.2.0",
            "grid_template_areas": null,
            "object_position": null,
            "object_fit": null,
            "grid_auto_columns": null,
            "margin": null,
            "display": null,
            "left": null
          }
        },
        "d7deffcb894e41868ceda9975c737117": {
          "model_module": "@jupyter-widgets/controls",
          "model_name": "HBoxModel",
          "state": {
            "_view_name": "HBoxView",
            "_dom_classes": [],
            "_model_name": "HBoxModel",
            "_view_module": "@jupyter-widgets/controls",
            "_model_module_version": "1.5.0",
            "_view_count": null,
            "_view_module_version": "1.5.0",
            "box_style": "",
            "layout": "IPY_MODEL_6840a25f58594de98cb2f77237f7b688",
            "_model_module": "@jupyter-widgets/controls",
            "children": [
              "IPY_MODEL_2760461d42d640fea6e72321533a202c",
              "IPY_MODEL_8f29d71489e641809367a37b68da04f9"
            ]
          }
        },
        "6840a25f58594de98cb2f77237f7b688": {
          "model_module": "@jupyter-widgets/base",
          "model_name": "LayoutModel",
          "state": {
            "_view_name": "LayoutView",
            "grid_template_rows": null,
            "right": null,
            "justify_content": null,
            "_view_module": "@jupyter-widgets/base",
            "overflow": null,
            "_model_module_version": "1.2.0",
            "_view_count": null,
            "flex_flow": null,
            "width": null,
            "min_width": null,
            "border": null,
            "align_items": null,
            "bottom": null,
            "_model_module": "@jupyter-widgets/base",
            "top": null,
            "grid_column": null,
            "overflow_y": null,
            "overflow_x": null,
            "grid_auto_flow": null,
            "grid_area": null,
            "grid_template_columns": null,
            "flex": null,
            "_model_name": "LayoutModel",
            "justify_items": null,
            "grid_row": null,
            "max_height": null,
            "align_content": null,
            "visibility": null,
            "align_self": null,
            "height": null,
            "min_height": null,
            "padding": null,
            "grid_auto_rows": null,
            "grid_gap": null,
            "max_width": null,
            "order": null,
            "_view_module_version": "1.2.0",
            "grid_template_areas": null,
            "object_position": null,
            "object_fit": null,
            "grid_auto_columns": null,
            "margin": null,
            "display": null,
            "left": null
          }
        },
        "2760461d42d640fea6e72321533a202c": {
          "model_module": "@jupyter-widgets/controls",
          "model_name": "FloatProgressModel",
          "state": {
            "_view_name": "ProgressView",
            "style": "IPY_MODEL_b854d42d23314f09932cb044c1d874f0",
            "_dom_classes": [],
            "description": "100%",
            "_model_name": "FloatProgressModel",
            "bar_style": "success",
            "max": 50,
            "_view_module": "@jupyter-widgets/controls",
            "_model_module_version": "1.5.0",
            "value": 50,
            "_view_count": null,
            "_view_module_version": "1.5.0",
            "orientation": "horizontal",
            "min": 0,
            "description_tooltip": null,
            "_model_module": "@jupyter-widgets/controls",
            "layout": "IPY_MODEL_ccfdb3721275487fb933276cde645520"
          }
        },
        "8f29d71489e641809367a37b68da04f9": {
          "model_module": "@jupyter-widgets/controls",
          "model_name": "HTMLModel",
          "state": {
            "_view_name": "HTMLView",
            "style": "IPY_MODEL_d046e466cc6b44e5b3a016db76ecf8be",
            "_dom_classes": [],
            "description": "",
            "_model_name": "HTMLModel",
            "placeholder": "​",
            "_view_module": "@jupyter-widgets/controls",
            "_model_module_version": "1.5.0",
            "value": " 50/50 [20:43&lt;00:00, 24.87s/it]",
            "_view_count": null,
            "_view_module_version": "1.5.0",
            "description_tooltip": null,
            "_model_module": "@jupyter-widgets/controls",
            "layout": "IPY_MODEL_3d7e5c63573c4931bc73ed44546b87b7"
          }
        },
        "b854d42d23314f09932cb044c1d874f0": {
          "model_module": "@jupyter-widgets/controls",
          "model_name": "ProgressStyleModel",
          "state": {
            "_view_name": "StyleView",
            "_model_name": "ProgressStyleModel",
            "description_width": "initial",
            "_view_module": "@jupyter-widgets/base",
            "_model_module_version": "1.5.0",
            "_view_count": null,
            "_view_module_version": "1.2.0",
            "bar_color": null,
            "_model_module": "@jupyter-widgets/controls"
          }
        },
        "ccfdb3721275487fb933276cde645520": {
          "model_module": "@jupyter-widgets/base",
          "model_name": "LayoutModel",
          "state": {
            "_view_name": "LayoutView",
            "grid_template_rows": null,
            "right": null,
            "justify_content": null,
            "_view_module": "@jupyter-widgets/base",
            "overflow": null,
            "_model_module_version": "1.2.0",
            "_view_count": null,
            "flex_flow": null,
            "width": null,
            "min_width": null,
            "border": null,
            "align_items": null,
            "bottom": null,
            "_model_module": "@jupyter-widgets/base",
            "top": null,
            "grid_column": null,
            "overflow_y": null,
            "overflow_x": null,
            "grid_auto_flow": null,
            "grid_area": null,
            "grid_template_columns": null,
            "flex": null,
            "_model_name": "LayoutModel",
            "justify_items": null,
            "grid_row": null,
            "max_height": null,
            "align_content": null,
            "visibility": null,
            "align_self": null,
            "height": null,
            "min_height": null,
            "padding": null,
            "grid_auto_rows": null,
            "grid_gap": null,
            "max_width": null,
            "order": null,
            "_view_module_version": "1.2.0",
            "grid_template_areas": null,
            "object_position": null,
            "object_fit": null,
            "grid_auto_columns": null,
            "margin": null,
            "display": null,
            "left": null
          }
        },
        "d046e466cc6b44e5b3a016db76ecf8be": {
          "model_module": "@jupyter-widgets/controls",
          "model_name": "DescriptionStyleModel",
          "state": {
            "_view_name": "StyleView",
            "_model_name": "DescriptionStyleModel",
            "description_width": "",
            "_view_module": "@jupyter-widgets/base",
            "_model_module_version": "1.5.0",
            "_view_count": null,
            "_view_module_version": "1.2.0",
            "_model_module": "@jupyter-widgets/controls"
          }
        },
        "3d7e5c63573c4931bc73ed44546b87b7": {
          "model_module": "@jupyter-widgets/base",
          "model_name": "LayoutModel",
          "state": {
            "_view_name": "LayoutView",
            "grid_template_rows": null,
            "right": null,
            "justify_content": null,
            "_view_module": "@jupyter-widgets/base",
            "overflow": null,
            "_model_module_version": "1.2.0",
            "_view_count": null,
            "flex_flow": null,
            "width": null,
            "min_width": null,
            "border": null,
            "align_items": null,
            "bottom": null,
            "_model_module": "@jupyter-widgets/base",
            "top": null,
            "grid_column": null,
            "overflow_y": null,
            "overflow_x": null,
            "grid_auto_flow": null,
            "grid_area": null,
            "grid_template_columns": null,
            "flex": null,
            "_model_name": "LayoutModel",
            "justify_items": null,
            "grid_row": null,
            "max_height": null,
            "align_content": null,
            "visibility": null,
            "align_self": null,
            "height": null,
            "min_height": null,
            "padding": null,
            "grid_auto_rows": null,
            "grid_gap": null,
            "max_width": null,
            "order": null,
            "_view_module_version": "1.2.0",
            "grid_template_areas": null,
            "object_position": null,
            "object_fit": null,
            "grid_auto_columns": null,
            "margin": null,
            "display": null,
            "left": null
          }
        },
        "ff92cf7e5f22476983eb28ce15185f6d": {
          "model_module": "@jupyter-widgets/controls",
          "model_name": "HBoxModel",
          "state": {
            "_view_name": "HBoxView",
            "_dom_classes": [],
            "_model_name": "HBoxModel",
            "_view_module": "@jupyter-widgets/controls",
            "_model_module_version": "1.5.0",
            "_view_count": null,
            "_view_module_version": "1.5.0",
            "box_style": "",
            "layout": "IPY_MODEL_83c6c234405e428b8cb852ff938db121",
            "_model_module": "@jupyter-widgets/controls",
            "children": [
              "IPY_MODEL_b70d292f15364f768d0baa99b1971918",
              "IPY_MODEL_2794be38e90344fba7af4ab4caca708c"
            ]
          }
        },
        "83c6c234405e428b8cb852ff938db121": {
          "model_module": "@jupyter-widgets/base",
          "model_name": "LayoutModel",
          "state": {
            "_view_name": "LayoutView",
            "grid_template_rows": null,
            "right": null,
            "justify_content": null,
            "_view_module": "@jupyter-widgets/base",
            "overflow": null,
            "_model_module_version": "1.2.0",
            "_view_count": null,
            "flex_flow": null,
            "width": null,
            "min_width": null,
            "border": null,
            "align_items": null,
            "bottom": null,
            "_model_module": "@jupyter-widgets/base",
            "top": null,
            "grid_column": null,
            "overflow_y": null,
            "overflow_x": null,
            "grid_auto_flow": null,
            "grid_area": null,
            "grid_template_columns": null,
            "flex": null,
            "_model_name": "LayoutModel",
            "justify_items": null,
            "grid_row": null,
            "max_height": null,
            "align_content": null,
            "visibility": null,
            "align_self": null,
            "height": null,
            "min_height": null,
            "padding": null,
            "grid_auto_rows": null,
            "grid_gap": null,
            "max_width": null,
            "order": null,
            "_view_module_version": "1.2.0",
            "grid_template_areas": null,
            "object_position": null,
            "object_fit": null,
            "grid_auto_columns": null,
            "margin": null,
            "display": null,
            "left": null
          }
        },
        "b70d292f15364f768d0baa99b1971918": {
          "model_module": "@jupyter-widgets/controls",
          "model_name": "FloatProgressModel",
          "state": {
            "_view_name": "ProgressView",
            "style": "IPY_MODEL_b0847fc2505441e3887510a18be7837f",
            "_dom_classes": [],
            "description": "100%",
            "_model_name": "FloatProgressModel",
            "bar_style": "success",
            "max": 99995,
            "_view_module": "@jupyter-widgets/controls",
            "_model_module_version": "1.5.0",
            "value": 99995,
            "_view_count": null,
            "_view_module_version": "1.5.0",
            "orientation": "horizontal",
            "min": 0,
            "description_tooltip": null,
            "_model_module": "@jupyter-widgets/controls",
            "layout": "IPY_MODEL_2674a2c51435479f8c71e9031588eada"
          }
        },
        "2794be38e90344fba7af4ab4caca708c": {
          "model_module": "@jupyter-widgets/controls",
          "model_name": "HTMLModel",
          "state": {
            "_view_name": "HTMLView",
            "style": "IPY_MODEL_9faab4d9f27c44a3a56e14509e12ca75",
            "_dom_classes": [],
            "description": "",
            "_model_name": "HTMLModel",
            "placeholder": "​",
            "_view_module": "@jupyter-widgets/controls",
            "_model_module_version": "1.5.0",
            "value": " 99995/99995 [20:35&lt;00:00, 80.90it/s]",
            "_view_count": null,
            "_view_module_version": "1.5.0",
            "description_tooltip": null,
            "_model_module": "@jupyter-widgets/controls",
            "layout": "IPY_MODEL_5d9161ac83264b4b9dfe815ef8f0c7a9"
          }
        },
        "b0847fc2505441e3887510a18be7837f": {
          "model_module": "@jupyter-widgets/controls",
          "model_name": "ProgressStyleModel",
          "state": {
            "_view_name": "StyleView",
            "_model_name": "ProgressStyleModel",
            "description_width": "initial",
            "_view_module": "@jupyter-widgets/base",
            "_model_module_version": "1.5.0",
            "_view_count": null,
            "_view_module_version": "1.2.0",
            "bar_color": null,
            "_model_module": "@jupyter-widgets/controls"
          }
        },
        "2674a2c51435479f8c71e9031588eada": {
          "model_module": "@jupyter-widgets/base",
          "model_name": "LayoutModel",
          "state": {
            "_view_name": "LayoutView",
            "grid_template_rows": null,
            "right": null,
            "justify_content": null,
            "_view_module": "@jupyter-widgets/base",
            "overflow": null,
            "_model_module_version": "1.2.0",
            "_view_count": null,
            "flex_flow": null,
            "width": null,
            "min_width": null,
            "border": null,
            "align_items": null,
            "bottom": null,
            "_model_module": "@jupyter-widgets/base",
            "top": null,
            "grid_column": null,
            "overflow_y": null,
            "overflow_x": null,
            "grid_auto_flow": null,
            "grid_area": null,
            "grid_template_columns": null,
            "flex": null,
            "_model_name": "LayoutModel",
            "justify_items": null,
            "grid_row": null,
            "max_height": null,
            "align_content": null,
            "visibility": null,
            "align_self": null,
            "height": null,
            "min_height": null,
            "padding": null,
            "grid_auto_rows": null,
            "grid_gap": null,
            "max_width": null,
            "order": null,
            "_view_module_version": "1.2.0",
            "grid_template_areas": null,
            "object_position": null,
            "object_fit": null,
            "grid_auto_columns": null,
            "margin": null,
            "display": null,
            "left": null
          }
        },
        "9faab4d9f27c44a3a56e14509e12ca75": {
          "model_module": "@jupyter-widgets/controls",
          "model_name": "DescriptionStyleModel",
          "state": {
            "_view_name": "StyleView",
            "_model_name": "DescriptionStyleModel",
            "description_width": "",
            "_view_module": "@jupyter-widgets/base",
            "_model_module_version": "1.5.0",
            "_view_count": null,
            "_view_module_version": "1.2.0",
            "_model_module": "@jupyter-widgets/controls"
          }
        },
        "5d9161ac83264b4b9dfe815ef8f0c7a9": {
          "model_module": "@jupyter-widgets/base",
          "model_name": "LayoutModel",
          "state": {
            "_view_name": "LayoutView",
            "grid_template_rows": null,
            "right": null,
            "justify_content": null,
            "_view_module": "@jupyter-widgets/base",
            "overflow": null,
            "_model_module_version": "1.2.0",
            "_view_count": null,
            "flex_flow": null,
            "width": null,
            "min_width": null,
            "border": null,
            "align_items": null,
            "bottom": null,
            "_model_module": "@jupyter-widgets/base",
            "top": null,
            "grid_column": null,
            "overflow_y": null,
            "overflow_x": null,
            "grid_auto_flow": null,
            "grid_area": null,
            "grid_template_columns": null,
            "flex": null,
            "_model_name": "LayoutModel",
            "justify_items": null,
            "grid_row": null,
            "max_height": null,
            "align_content": null,
            "visibility": null,
            "align_self": null,
            "height": null,
            "min_height": null,
            "padding": null,
            "grid_auto_rows": null,
            "grid_gap": null,
            "max_width": null,
            "order": null,
            "_view_module_version": "1.2.0",
            "grid_template_areas": null,
            "object_position": null,
            "object_fit": null,
            "grid_auto_columns": null,
            "margin": null,
            "display": null,
            "left": null
          }
        },
        "829a3e1cf7ae4f4caa8cc1de37e75328": {
          "model_module": "@jupyter-widgets/controls",
          "model_name": "HBoxModel",
          "state": {
            "_view_name": "HBoxView",
            "_dom_classes": [],
            "_model_name": "HBoxModel",
            "_view_module": "@jupyter-widgets/controls",
            "_model_module_version": "1.5.0",
            "_view_count": null,
            "_view_module_version": "1.5.0",
            "box_style": "",
            "layout": "IPY_MODEL_179cd08e94c04ac5996f37603ca4a127",
            "_model_module": "@jupyter-widgets/controls",
            "children": [
              "IPY_MODEL_c155664588de45ada479e7d8d8365e76",
              "IPY_MODEL_f1ad34f9742e4cd48f013810c4fa595f"
            ]
          }
        },
        "179cd08e94c04ac5996f37603ca4a127": {
          "model_module": "@jupyter-widgets/base",
          "model_name": "LayoutModel",
          "state": {
            "_view_name": "LayoutView",
            "grid_template_rows": null,
            "right": null,
            "justify_content": null,
            "_view_module": "@jupyter-widgets/base",
            "overflow": null,
            "_model_module_version": "1.2.0",
            "_view_count": null,
            "flex_flow": null,
            "width": null,
            "min_width": null,
            "border": null,
            "align_items": null,
            "bottom": null,
            "_model_module": "@jupyter-widgets/base",
            "top": null,
            "grid_column": null,
            "overflow_y": null,
            "overflow_x": null,
            "grid_auto_flow": null,
            "grid_area": null,
            "grid_template_columns": null,
            "flex": null,
            "_model_name": "LayoutModel",
            "justify_items": null,
            "grid_row": null,
            "max_height": null,
            "align_content": null,
            "visibility": null,
            "align_self": null,
            "height": null,
            "min_height": null,
            "padding": null,
            "grid_auto_rows": null,
            "grid_gap": null,
            "max_width": null,
            "order": null,
            "_view_module_version": "1.2.0",
            "grid_template_areas": null,
            "object_position": null,
            "object_fit": null,
            "grid_auto_columns": null,
            "margin": null,
            "display": null,
            "left": null
          }
        },
        "c155664588de45ada479e7d8d8365e76": {
          "model_module": "@jupyter-widgets/controls",
          "model_name": "FloatProgressModel",
          "state": {
            "_view_name": "ProgressView",
            "style": "IPY_MODEL_5d4ca0ac39fe4b4a8cbef64f52926c53",
            "_dom_classes": [],
            "description": "100%",
            "_model_name": "FloatProgressModel",
            "bar_style": "success",
            "max": 50,
            "_view_module": "@jupyter-widgets/controls",
            "_model_module_version": "1.5.0",
            "value": 50,
            "_view_count": null,
            "_view_module_version": "1.5.0",
            "orientation": "horizontal",
            "min": 0,
            "description_tooltip": null,
            "_model_module": "@jupyter-widgets/controls",
            "layout": "IPY_MODEL_2d53eae7dac04e45a51385da6f2dff3a"
          }
        },
        "f1ad34f9742e4cd48f013810c4fa595f": {
          "model_module": "@jupyter-widgets/controls",
          "model_name": "HTMLModel",
          "state": {
            "_view_name": "HTMLView",
            "style": "IPY_MODEL_58a1c8373fc5424698c237427662315e",
            "_dom_classes": [],
            "description": "",
            "_model_name": "HTMLModel",
            "placeholder": "​",
            "_view_module": "@jupyter-widgets/controls",
            "_model_module_version": "1.5.0",
            "value": " 50/50 [48:08&lt;00:00, 57.78s/it]",
            "_view_count": null,
            "_view_module_version": "1.5.0",
            "description_tooltip": null,
            "_model_module": "@jupyter-widgets/controls",
            "layout": "IPY_MODEL_1185439e0fd84498848d8c82d1fe91ee"
          }
        },
        "5d4ca0ac39fe4b4a8cbef64f52926c53": {
          "model_module": "@jupyter-widgets/controls",
          "model_name": "ProgressStyleModel",
          "state": {
            "_view_name": "StyleView",
            "_model_name": "ProgressStyleModel",
            "description_width": "initial",
            "_view_module": "@jupyter-widgets/base",
            "_model_module_version": "1.5.0",
            "_view_count": null,
            "_view_module_version": "1.2.0",
            "bar_color": null,
            "_model_module": "@jupyter-widgets/controls"
          }
        },
        "2d53eae7dac04e45a51385da6f2dff3a": {
          "model_module": "@jupyter-widgets/base",
          "model_name": "LayoutModel",
          "state": {
            "_view_name": "LayoutView",
            "grid_template_rows": null,
            "right": null,
            "justify_content": null,
            "_view_module": "@jupyter-widgets/base",
            "overflow": null,
            "_model_module_version": "1.2.0",
            "_view_count": null,
            "flex_flow": null,
            "width": null,
            "min_width": null,
            "border": null,
            "align_items": null,
            "bottom": null,
            "_model_module": "@jupyter-widgets/base",
            "top": null,
            "grid_column": null,
            "overflow_y": null,
            "overflow_x": null,
            "grid_auto_flow": null,
            "grid_area": null,
            "grid_template_columns": null,
            "flex": null,
            "_model_name": "LayoutModel",
            "justify_items": null,
            "grid_row": null,
            "max_height": null,
            "align_content": null,
            "visibility": null,
            "align_self": null,
            "height": null,
            "min_height": null,
            "padding": null,
            "grid_auto_rows": null,
            "grid_gap": null,
            "max_width": null,
            "order": null,
            "_view_module_version": "1.2.0",
            "grid_template_areas": null,
            "object_position": null,
            "object_fit": null,
            "grid_auto_columns": null,
            "margin": null,
            "display": null,
            "left": null
          }
        },
        "58a1c8373fc5424698c237427662315e": {
          "model_module": "@jupyter-widgets/controls",
          "model_name": "DescriptionStyleModel",
          "state": {
            "_view_name": "StyleView",
            "_model_name": "DescriptionStyleModel",
            "description_width": "",
            "_view_module": "@jupyter-widgets/base",
            "_model_module_version": "1.5.0",
            "_view_count": null,
            "_view_module_version": "1.2.0",
            "_model_module": "@jupyter-widgets/controls"
          }
        },
        "1185439e0fd84498848d8c82d1fe91ee": {
          "model_module": "@jupyter-widgets/base",
          "model_name": "LayoutModel",
          "state": {
            "_view_name": "LayoutView",
            "grid_template_rows": null,
            "right": null,
            "justify_content": null,
            "_view_module": "@jupyter-widgets/base",
            "overflow": null,
            "_model_module_version": "1.2.0",
            "_view_count": null,
            "flex_flow": null,
            "width": null,
            "min_width": null,
            "border": null,
            "align_items": null,
            "bottom": null,
            "_model_module": "@jupyter-widgets/base",
            "top": null,
            "grid_column": null,
            "overflow_y": null,
            "overflow_x": null,
            "grid_auto_flow": null,
            "grid_area": null,
            "grid_template_columns": null,
            "flex": null,
            "_model_name": "LayoutModel",
            "justify_items": null,
            "grid_row": null,
            "max_height": null,
            "align_content": null,
            "visibility": null,
            "align_self": null,
            "height": null,
            "min_height": null,
            "padding": null,
            "grid_auto_rows": null,
            "grid_gap": null,
            "max_width": null,
            "order": null,
            "_view_module_version": "1.2.0",
            "grid_template_areas": null,
            "object_position": null,
            "object_fit": null,
            "grid_auto_columns": null,
            "margin": null,
            "display": null,
            "left": null
          }
        },
        "89cdf51480c845c89ceae0f1f823a6b0": {
          "model_module": "@jupyter-widgets/controls",
          "model_name": "HBoxModel",
          "state": {
            "_view_name": "HBoxView",
            "_dom_classes": [],
            "_model_name": "HBoxModel",
            "_view_module": "@jupyter-widgets/controls",
            "_model_module_version": "1.5.0",
            "_view_count": null,
            "_view_module_version": "1.5.0",
            "box_style": "",
            "layout": "IPY_MODEL_af38a188266b4c60b7b171648a75b73b",
            "_model_module": "@jupyter-widgets/controls",
            "children": [
              "IPY_MODEL_07a05cf31bd74fbab8475624da417764",
              "IPY_MODEL_7611bae51c2a4fe98ae39176f78cfba1"
            ]
          }
        },
        "af38a188266b4c60b7b171648a75b73b": {
          "model_module": "@jupyter-widgets/base",
          "model_name": "LayoutModel",
          "state": {
            "_view_name": "LayoutView",
            "grid_template_rows": null,
            "right": null,
            "justify_content": null,
            "_view_module": "@jupyter-widgets/base",
            "overflow": null,
            "_model_module_version": "1.2.0",
            "_view_count": null,
            "flex_flow": null,
            "width": null,
            "min_width": null,
            "border": null,
            "align_items": null,
            "bottom": null,
            "_model_module": "@jupyter-widgets/base",
            "top": null,
            "grid_column": null,
            "overflow_y": null,
            "overflow_x": null,
            "grid_auto_flow": null,
            "grid_area": null,
            "grid_template_columns": null,
            "flex": null,
            "_model_name": "LayoutModel",
            "justify_items": null,
            "grid_row": null,
            "max_height": null,
            "align_content": null,
            "visibility": null,
            "align_self": null,
            "height": null,
            "min_height": null,
            "padding": null,
            "grid_auto_rows": null,
            "grid_gap": null,
            "max_width": null,
            "order": null,
            "_view_module_version": "1.2.0",
            "grid_template_areas": null,
            "object_position": null,
            "object_fit": null,
            "grid_auto_columns": null,
            "margin": null,
            "display": null,
            "left": null
          }
        },
        "07a05cf31bd74fbab8475624da417764": {
          "model_module": "@jupyter-widgets/controls",
          "model_name": "FloatProgressModel",
          "state": {
            "_view_name": "ProgressView",
            "style": "IPY_MODEL_91fed26783f7443f8e8d426d39ec3566",
            "_dom_classes": [],
            "description": "100%",
            "_model_name": "FloatProgressModel",
            "bar_style": "success",
            "max": 99995,
            "_view_module": "@jupyter-widgets/controls",
            "_model_module_version": "1.5.0",
            "value": 99995,
            "_view_count": null,
            "_view_module_version": "1.5.0",
            "orientation": "horizontal",
            "min": 0,
            "description_tooltip": null,
            "_model_module": "@jupyter-widgets/controls",
            "layout": "IPY_MODEL_d9183ea5177e4e529c5b4e2829961848"
          }
        },
        "7611bae51c2a4fe98ae39176f78cfba1": {
          "model_module": "@jupyter-widgets/controls",
          "model_name": "HTMLModel",
          "state": {
            "_view_name": "HTMLView",
            "style": "IPY_MODEL_d9677adcf8e74af1b136a05c80c8a1a2",
            "_dom_classes": [],
            "description": "",
            "_model_name": "HTMLModel",
            "placeholder": "​",
            "_view_module": "@jupyter-widgets/controls",
            "_model_module_version": "1.5.0",
            "value": " 99995/99995 [47:56&lt;00:00, 34.76it/s]",
            "_view_count": null,
            "_view_module_version": "1.5.0",
            "description_tooltip": null,
            "_model_module": "@jupyter-widgets/controls",
            "layout": "IPY_MODEL_6dc47e40807d4e70a15ca327583dac8f"
          }
        },
        "91fed26783f7443f8e8d426d39ec3566": {
          "model_module": "@jupyter-widgets/controls",
          "model_name": "ProgressStyleModel",
          "state": {
            "_view_name": "StyleView",
            "_model_name": "ProgressStyleModel",
            "description_width": "initial",
            "_view_module": "@jupyter-widgets/base",
            "_model_module_version": "1.5.0",
            "_view_count": null,
            "_view_module_version": "1.2.0",
            "bar_color": null,
            "_model_module": "@jupyter-widgets/controls"
          }
        },
        "d9183ea5177e4e529c5b4e2829961848": {
          "model_module": "@jupyter-widgets/base",
          "model_name": "LayoutModel",
          "state": {
            "_view_name": "LayoutView",
            "grid_template_rows": null,
            "right": null,
            "justify_content": null,
            "_view_module": "@jupyter-widgets/base",
            "overflow": null,
            "_model_module_version": "1.2.0",
            "_view_count": null,
            "flex_flow": null,
            "width": null,
            "min_width": null,
            "border": null,
            "align_items": null,
            "bottom": null,
            "_model_module": "@jupyter-widgets/base",
            "top": null,
            "grid_column": null,
            "overflow_y": null,
            "overflow_x": null,
            "grid_auto_flow": null,
            "grid_area": null,
            "grid_template_columns": null,
            "flex": null,
            "_model_name": "LayoutModel",
            "justify_items": null,
            "grid_row": null,
            "max_height": null,
            "align_content": null,
            "visibility": null,
            "align_self": null,
            "height": null,
            "min_height": null,
            "padding": null,
            "grid_auto_rows": null,
            "grid_gap": null,
            "max_width": null,
            "order": null,
            "_view_module_version": "1.2.0",
            "grid_template_areas": null,
            "object_position": null,
            "object_fit": null,
            "grid_auto_columns": null,
            "margin": null,
            "display": null,
            "left": null
          }
        },
        "d9677adcf8e74af1b136a05c80c8a1a2": {
          "model_module": "@jupyter-widgets/controls",
          "model_name": "DescriptionStyleModel",
          "state": {
            "_view_name": "StyleView",
            "_model_name": "DescriptionStyleModel",
            "description_width": "",
            "_view_module": "@jupyter-widgets/base",
            "_model_module_version": "1.5.0",
            "_view_count": null,
            "_view_module_version": "1.2.0",
            "_model_module": "@jupyter-widgets/controls"
          }
        },
        "6dc47e40807d4e70a15ca327583dac8f": {
          "model_module": "@jupyter-widgets/base",
          "model_name": "LayoutModel",
          "state": {
            "_view_name": "LayoutView",
            "grid_template_rows": null,
            "right": null,
            "justify_content": null,
            "_view_module": "@jupyter-widgets/base",
            "overflow": null,
            "_model_module_version": "1.2.0",
            "_view_count": null,
            "flex_flow": null,
            "width": null,
            "min_width": null,
            "border": null,
            "align_items": null,
            "bottom": null,
            "_model_module": "@jupyter-widgets/base",
            "top": null,
            "grid_column": null,
            "overflow_y": null,
            "overflow_x": null,
            "grid_auto_flow": null,
            "grid_area": null,
            "grid_template_columns": null,
            "flex": null,
            "_model_name": "LayoutModel",
            "justify_items": null,
            "grid_row": null,
            "max_height": null,
            "align_content": null,
            "visibility": null,
            "align_self": null,
            "height": null,
            "min_height": null,
            "padding": null,
            "grid_auto_rows": null,
            "grid_gap": null,
            "max_width": null,
            "order": null,
            "_view_module_version": "1.2.0",
            "grid_template_areas": null,
            "object_position": null,
            "object_fit": null,
            "grid_auto_columns": null,
            "margin": null,
            "display": null,
            "left": null
          }
        }
      }
    }
  },
  "cells": [
    {
      "cell_type": "code",
      "metadata": {
        "id": "rZEa0jMwo7pS"
      },
      "source": [
        "from IPython.display import clear_output\n",
        "\n",
        "def load_from_gdrive(gid, filename='temp'):\n",
        "    !wget --load-cookies /tmp/cookies.txt \"https://docs.google.com/uc?export=download&confirm=$(wget --quiet --save-cookies /tmp/cookies.txt --keep-session-cookies --no-check-certificate 'https://docs.google.com/uc?export=download&id='$gid -O- | sed -rn 's/.*confirm=([0-9A-Za-z_]+).*/\\1\\n/p')&id=\"$gid -O $filename && rm -rf /tmp/cookies.txt"
      ],
      "execution_count": 1,
      "outputs": []
    },
    {
      "cell_type": "code",
      "metadata": {
        "id": "v3mN8GbppDlL"
      },
      "source": [
        "!rm -rf data\n",
        "\n",
        "data_id = '1MsS9p8Zz-Kee1Yi-ZhYOc8tHGH1dCOLK'\n",
        "load_from_gdrive(data_id, 'data.zip')\n",
        "!unzip -P Skoltech data.zip -d /content/data/\n",
        "\n",
        "clear_output()"
      ],
      "execution_count": 2,
      "outputs": []
    },
    {
      "cell_type": "code",
      "metadata": {
        "id": "2lEIsG8Hwr1g"
      },
      "source": [
        "!pip install -U pyarrow implicit\n",
        "clear_output()"
      ],
      "execution_count": 3,
      "outputs": []
    },
    {
      "cell_type": "markdown",
      "metadata": {
        "id": "T2RLqa5MqGiF"
      },
      "source": [
        "# Data\n",
        "\n",
        "Loading and preprocessing data"
      ]
    },
    {
      "cell_type": "code",
      "metadata": {
        "id": "RHJJrcwbqbO7"
      },
      "source": [
        "import os\n",
        "import sys\n",
        "import numpy as np\n",
        "import pandas as pd\n",
        "import matplotlib.pyplot as plt\n",
        "\n",
        "DATA_DIR = '/content/data'\n",
        "CLIENTS_FILE = os.path.join(DATA_DIR, 'clients.csv')\n",
        "MATERIALS_FILE = os.path.join(DATA_DIR, 'materials.csv')\n",
        "PLANTS_FILE = os.path.join(DATA_DIR, 'plants.csv')\n",
        "TRANSACTIONS_FILE = os.path.join(DATA_DIR, 'transactions.parquet')"
      ],
      "execution_count": 1,
      "outputs": []
    },
    {
      "cell_type": "code",
      "metadata": {
        "id": "8xHyyPiJqMKC",
        "outputId": "2359cf7c-003c-4e78-924f-873dcd0def19",
        "colab": {
          "base_uri": "https://localhost:8080/",
          "height": 221
        }
      },
      "source": [
        "df_clients = pd.read_csv(CLIENTS_FILE)\n",
        "print(df_clients.shape)\n",
        "df_clients.head()"
      ],
      "execution_count": 2,
      "outputs": [
        {
          "output_type": "stream",
          "text": [
            "(99995, 4)\n"
          ],
          "name": "stdout"
        },
        {
          "output_type": "execute_result",
          "data": {
            "text/html": [
              "<div>\n",
              "<style scoped>\n",
              "    .dataframe tbody tr th:only-of-type {\n",
              "        vertical-align: middle;\n",
              "    }\n",
              "\n",
              "    .dataframe tbody tr th {\n",
              "        vertical-align: top;\n",
              "    }\n",
              "\n",
              "    .dataframe thead th {\n",
              "        text-align: right;\n",
              "    }\n",
              "</style>\n",
              "<table border=\"1\" class=\"dataframe\">\n",
              "  <thead>\n",
              "    <tr style=\"text-align: right;\">\n",
              "      <th></th>\n",
              "      <th>client_id</th>\n",
              "      <th>gender</th>\n",
              "      <th>city</th>\n",
              "      <th>birthyear</th>\n",
              "    </tr>\n",
              "  </thead>\n",
              "  <tbody>\n",
              "    <tr>\n",
              "      <th>0</th>\n",
              "      <td>1a47d62dddacc03fe90c15652f7ae1a4</td>\n",
              "      <td>M</td>\n",
              "      <td>Other</td>\n",
              "      <td>1990.0</td>\n",
              "    </tr>\n",
              "    <tr>\n",
              "      <th>1</th>\n",
              "      <td>9cb909f701d25d548e953bff81192b56</td>\n",
              "      <td>F</td>\n",
              "      <td>Other</td>\n",
              "      <td>1969.0</td>\n",
              "    </tr>\n",
              "    <tr>\n",
              "      <th>2</th>\n",
              "      <td>d5da0f5b841b4f83383202807995027a</td>\n",
              "      <td>M</td>\n",
              "      <td>Other</td>\n",
              "      <td>1976.0</td>\n",
              "    </tr>\n",
              "    <tr>\n",
              "      <th>3</th>\n",
              "      <td>13ed7f16810b17b8cee6de834ac79a48</td>\n",
              "      <td>F</td>\n",
              "      <td>Moscow</td>\n",
              "      <td>1966.0</td>\n",
              "    </tr>\n",
              "    <tr>\n",
              "      <th>4</th>\n",
              "      <td>215fe3ea7d5bf0415e5504e2a7f33551</td>\n",
              "      <td>F</td>\n",
              "      <td>Other</td>\n",
              "      <td>1988.0</td>\n",
              "    </tr>\n",
              "  </tbody>\n",
              "</table>\n",
              "</div>"
            ],
            "text/plain": [
              "                          client_id gender    city  birthyear\n",
              "0  1a47d62dddacc03fe90c15652f7ae1a4      M   Other     1990.0\n",
              "1  9cb909f701d25d548e953bff81192b56      F   Other     1969.0\n",
              "2  d5da0f5b841b4f83383202807995027a      M   Other     1976.0\n",
              "3  13ed7f16810b17b8cee6de834ac79a48      F  Moscow     1966.0\n",
              "4  215fe3ea7d5bf0415e5504e2a7f33551      F   Other     1988.0"
            ]
          },
          "metadata": {
            "tags": []
          },
          "execution_count": 2
        }
      ]
    },
    {
      "cell_type": "code",
      "metadata": {
        "id": "5X8l3claqr9e",
        "outputId": "201a5dfe-ad3a-495e-fd16-bd0ac7d73c5b",
        "colab": {
          "base_uri": "https://localhost:8080/",
          "height": 241
        }
      },
      "source": [
        "df_materials = pd.read_csv(MATERIALS_FILE)\n",
        "print(df_materials.shape)\n",
        "df_materials.head()"
      ],
      "execution_count": 3,
      "outputs": [
        {
          "output_type": "stream",
          "text": [
            "(105609, 8)\n"
          ],
          "name": "stdout"
        },
        {
          "output_type": "execute_result",
          "data": {
            "text/html": [
              "<div>\n",
              "<style scoped>\n",
              "    .dataframe tbody tr th:only-of-type {\n",
              "        vertical-align: middle;\n",
              "    }\n",
              "\n",
              "    .dataframe tbody tr th {\n",
              "        vertical-align: top;\n",
              "    }\n",
              "\n",
              "    .dataframe thead th {\n",
              "        text-align: right;\n",
              "    }\n",
              "</style>\n",
              "<table border=\"1\" class=\"dataframe\">\n",
              "  <thead>\n",
              "    <tr style=\"text-align: right;\">\n",
              "      <th></th>\n",
              "      <th>material</th>\n",
              "      <th>hier_level_1</th>\n",
              "      <th>hier_level_2</th>\n",
              "      <th>hier_level_3</th>\n",
              "      <th>hier_level_4</th>\n",
              "      <th>vendor</th>\n",
              "      <th>is_private_label</th>\n",
              "      <th>is_alco</th>\n",
              "    </tr>\n",
              "  </thead>\n",
              "  <tbody>\n",
              "    <tr>\n",
              "      <th>0</th>\n",
              "      <td>35cbdf61de9e19c8b417327aaef14c88</td>\n",
              "      <td>NONFOOD</td>\n",
              "      <td>ea5d2f1c4608232e07d3aa3d998e5135</td>\n",
              "      <td>99cad265a1768cc2dd013f0e740300ae</td>\n",
              "      <td>9eed45f71360b4b1e2590637467220e5</td>\n",
              "      <td>212a38db0ddcd009f1e164cc8483485c</td>\n",
              "      <td>0</td>\n",
              "      <td>0</td>\n",
              "    </tr>\n",
              "    <tr>\n",
              "      <th>1</th>\n",
              "      <td>c0b0bf24d4ec71da3d304f761ec555d8</td>\n",
              "      <td>NONFOOD</td>\n",
              "      <td>ea5d2f1c4608232e07d3aa3d998e5135</td>\n",
              "      <td>99cad265a1768cc2dd013f0e740300ae</td>\n",
              "      <td>de2eb747e0896c050905a6b635ab800a</td>\n",
              "      <td>9b0b6c7d55413ad3b67761b7b125b534</td>\n",
              "      <td>0</td>\n",
              "      <td>0</td>\n",
              "    </tr>\n",
              "    <tr>\n",
              "      <th>2</th>\n",
              "      <td>f0fc5e654a81a7c4b8ba8d7c26546e14</td>\n",
              "      <td>NONFOOD</td>\n",
              "      <td>ea5d2f1c4608232e07d3aa3d998e5135</td>\n",
              "      <td>99cad265a1768cc2dd013f0e740300ae</td>\n",
              "      <td>8a969031832c535daf96e0c2aed8e814</td>\n",
              "      <td>9b0b6c7d55413ad3b67761b7b125b534</td>\n",
              "      <td>0</td>\n",
              "      <td>0</td>\n",
              "    </tr>\n",
              "    <tr>\n",
              "      <th>3</th>\n",
              "      <td>353693e64fb5f9e2d29746d7fe6edf1e</td>\n",
              "      <td>NONFOOD</td>\n",
              "      <td>ea5d2f1c4608232e07d3aa3d998e5135</td>\n",
              "      <td>b58f7d184743106a8a66028b7a28937c</td>\n",
              "      <td>4c0dc012ebb679a18b244c53c6f59b5a</td>\n",
              "      <td>a3c8be149d718771e892619bd310b961</td>\n",
              "      <td>0</td>\n",
              "      <td>0</td>\n",
              "    </tr>\n",
              "    <tr>\n",
              "      <th>4</th>\n",
              "      <td>5d9e0b4302ce95448cae72165ff4cf5b</td>\n",
              "      <td>NONFOOD</td>\n",
              "      <td>ea5d2f1c4608232e07d3aa3d998e5135</td>\n",
              "      <td>b58f7d184743106a8a66028b7a28937c</td>\n",
              "      <td>4c0dc012ebb679a18b244c53c6f59b5a</td>\n",
              "      <td>a3c8be149d718771e892619bd310b961</td>\n",
              "      <td>0</td>\n",
              "      <td>0</td>\n",
              "    </tr>\n",
              "  </tbody>\n",
              "</table>\n",
              "</div>"
            ],
            "text/plain": [
              "                           material hier_level_1  ... is_private_label is_alco\n",
              "0  35cbdf61de9e19c8b417327aaef14c88      NONFOOD  ...                0       0\n",
              "1  c0b0bf24d4ec71da3d304f761ec555d8      NONFOOD  ...                0       0\n",
              "2  f0fc5e654a81a7c4b8ba8d7c26546e14      NONFOOD  ...                0       0\n",
              "3  353693e64fb5f9e2d29746d7fe6edf1e      NONFOOD  ...                0       0\n",
              "4  5d9e0b4302ce95448cae72165ff4cf5b      NONFOOD  ...                0       0\n",
              "\n",
              "[5 rows x 8 columns]"
            ]
          },
          "metadata": {
            "tags": []
          },
          "execution_count": 3
        }
      ]
    },
    {
      "cell_type": "code",
      "metadata": {
        "id": "WGe5QFidquvl",
        "outputId": "9bd6726d-c1af-40eb-eb41-60eb7dd8a1e8",
        "colab": {
          "base_uri": "https://localhost:8080/",
          "height": 221
        }
      },
      "source": [
        "df_plants = pd.read_csv(PLANTS_FILE)\n",
        "print(df_plants.shape)\n",
        "df_plants.head()"
      ],
      "execution_count": 4,
      "outputs": [
        {
          "output_type": "stream",
          "text": [
            "(388, 3)\n"
          ],
          "name": "stdout"
        },
        {
          "output_type": "execute_result",
          "data": {
            "text/html": [
              "<div>\n",
              "<style scoped>\n",
              "    .dataframe tbody tr th:only-of-type {\n",
              "        vertical-align: middle;\n",
              "    }\n",
              "\n",
              "    .dataframe tbody tr th {\n",
              "        vertical-align: top;\n",
              "    }\n",
              "\n",
              "    .dataframe thead th {\n",
              "        text-align: right;\n",
              "    }\n",
              "</style>\n",
              "<table border=\"1\" class=\"dataframe\">\n",
              "  <thead>\n",
              "    <tr style=\"text-align: right;\">\n",
              "      <th></th>\n",
              "      <th>plant</th>\n",
              "      <th>plant_type</th>\n",
              "      <th>city</th>\n",
              "    </tr>\n",
              "  </thead>\n",
              "  <tbody>\n",
              "    <tr>\n",
              "      <th>0</th>\n",
              "      <td>95b09698fda1f64af16708ffb859eab9</td>\n",
              "      <td>HM</td>\n",
              "      <td>St. Petersburg</td>\n",
              "    </tr>\n",
              "    <tr>\n",
              "      <th>1</th>\n",
              "      <td>926abae84a4bd33c834bc6b981b8cf30</td>\n",
              "      <td>HM</td>\n",
              "      <td>St. Petersburg</td>\n",
              "    </tr>\n",
              "    <tr>\n",
              "      <th>2</th>\n",
              "      <td>ae2bac2e4b4da805d01b2952d7e35ba4</td>\n",
              "      <td>HM</td>\n",
              "      <td>St. Petersburg</td>\n",
              "    </tr>\n",
              "    <tr>\n",
              "      <th>3</th>\n",
              "      <td>0e7e3cf0ded4d9db8b376b317c007f99</td>\n",
              "      <td>HM</td>\n",
              "      <td>St. Petersburg</td>\n",
              "    </tr>\n",
              "    <tr>\n",
              "      <th>4</th>\n",
              "      <td>540bd55a2cf295b8ea9cd78650e89d03</td>\n",
              "      <td>HM</td>\n",
              "      <td>St. Petersburg</td>\n",
              "    </tr>\n",
              "  </tbody>\n",
              "</table>\n",
              "</div>"
            ],
            "text/plain": [
              "                              plant plant_type            city\n",
              "0  95b09698fda1f64af16708ffb859eab9         HM  St. Petersburg\n",
              "1  926abae84a4bd33c834bc6b981b8cf30         HM  St. Petersburg\n",
              "2  ae2bac2e4b4da805d01b2952d7e35ba4         HM  St. Petersburg\n",
              "3  0e7e3cf0ded4d9db8b376b317c007f99         HM  St. Petersburg\n",
              "4  540bd55a2cf295b8ea9cd78650e89d03         HM  St. Petersburg"
            ]
          },
          "metadata": {
            "tags": []
          },
          "execution_count": 4
        }
      ]
    },
    {
      "cell_type": "code",
      "metadata": {
        "id": "82IuwGeOwv32",
        "outputId": "11da09a9-b989-4b8e-d5d3-7727cd556230",
        "colab": {
          "base_uri": "https://localhost:8080/",
          "height": 326
        }
      },
      "source": [
        "df_transactions = pd.read_parquet(TRANSACTIONS_FILE, engine='pyarrow', use_threads=True)\n",
        "print(df_transactions.shape)\n",
        "df_transactions.head()"
      ],
      "execution_count": 5,
      "outputs": [
        {
          "output_type": "stream",
          "text": [
            "(32109414, 9)\n"
          ],
          "name": "stdout"
        },
        {
          "output_type": "execute_result",
          "data": {
            "text/html": [
              "<div>\n",
              "<style scoped>\n",
              "    .dataframe tbody tr th:only-of-type {\n",
              "        vertical-align: middle;\n",
              "    }\n",
              "\n",
              "    .dataframe tbody tr th {\n",
              "        vertical-align: top;\n",
              "    }\n",
              "\n",
              "    .dataframe thead th {\n",
              "        text-align: right;\n",
              "    }\n",
              "</style>\n",
              "<table border=\"1\" class=\"dataframe\">\n",
              "  <thead>\n",
              "    <tr style=\"text-align: right;\">\n",
              "      <th></th>\n",
              "      <th>chq_id</th>\n",
              "      <th>plant</th>\n",
              "      <th>chq_date</th>\n",
              "      <th>chq_position</th>\n",
              "      <th>client_id</th>\n",
              "      <th>material</th>\n",
              "      <th>sales_count</th>\n",
              "      <th>sales_sum</th>\n",
              "      <th>is_promo</th>\n",
              "    </tr>\n",
              "  </thead>\n",
              "  <tbody>\n",
              "    <tr>\n",
              "      <th>0</th>\n",
              "      <td>ce5b3d1c531348c5d0d8e859b6d0cf91</td>\n",
              "      <td>7cd86ecb09aa48c6e620b340f6a74592</td>\n",
              "      <td>2016-11-01</td>\n",
              "      <td>004</td>\n",
              "      <td>90fca68123e692a005a4edeadd94b2f2</td>\n",
              "      <td>232cfe8b28970434f685b737737b26d4</td>\n",
              "      <td>2.0</td>\n",
              "      <td>146.98</td>\n",
              "      <td>0</td>\n",
              "    </tr>\n",
              "    <tr>\n",
              "      <th>1</th>\n",
              "      <td>ce5b3d1c531348c5d0d8e859b6d0cf91</td>\n",
              "      <td>7cd86ecb09aa48c6e620b340f6a74592</td>\n",
              "      <td>2016-11-01</td>\n",
              "      <td>003</td>\n",
              "      <td>90fca68123e692a005a4edeadd94b2f2</td>\n",
              "      <td>12ec64451b8e426db16f3f05ea770901</td>\n",
              "      <td>1.0</td>\n",
              "      <td>249.99</td>\n",
              "      <td>1</td>\n",
              "    </tr>\n",
              "    <tr>\n",
              "      <th>2</th>\n",
              "      <td>ce5b3d1c531348c5d0d8e859b6d0cf91</td>\n",
              "      <td>7cd86ecb09aa48c6e620b340f6a74592</td>\n",
              "      <td>2016-11-01</td>\n",
              "      <td>012</td>\n",
              "      <td>90fca68123e692a005a4edeadd94b2f2</td>\n",
              "      <td>1212ff8ecf53aebef093ca8ae216db68</td>\n",
              "      <td>1.0</td>\n",
              "      <td>47.99</td>\n",
              "      <td>1</td>\n",
              "    </tr>\n",
              "    <tr>\n",
              "      <th>3</th>\n",
              "      <td>ce5b3d1c531348c5d0d8e859b6d0cf91</td>\n",
              "      <td>7cd86ecb09aa48c6e620b340f6a74592</td>\n",
              "      <td>2016-11-01</td>\n",
              "      <td>013</td>\n",
              "      <td>90fca68123e692a005a4edeadd94b2f2</td>\n",
              "      <td>1212ff8ecf53aebef093ca8ae216db68</td>\n",
              "      <td>1.0</td>\n",
              "      <td>47.99</td>\n",
              "      <td>1</td>\n",
              "    </tr>\n",
              "    <tr>\n",
              "      <th>4</th>\n",
              "      <td>ce5b3d1c531348c5d0d8e859b6d0cf91</td>\n",
              "      <td>7cd86ecb09aa48c6e620b340f6a74592</td>\n",
              "      <td>2016-11-01</td>\n",
              "      <td>011</td>\n",
              "      <td>90fca68123e692a005a4edeadd94b2f2</td>\n",
              "      <td>571c6d3b559db8445e05265649eb30ab</td>\n",
              "      <td>2.0</td>\n",
              "      <td>53.98</td>\n",
              "      <td>1</td>\n",
              "    </tr>\n",
              "  </tbody>\n",
              "</table>\n",
              "</div>"
            ],
            "text/plain": [
              "                             chq_id  ... is_promo\n",
              "0  ce5b3d1c531348c5d0d8e859b6d0cf91  ...        0\n",
              "1  ce5b3d1c531348c5d0d8e859b6d0cf91  ...        1\n",
              "2  ce5b3d1c531348c5d0d8e859b6d0cf91  ...        1\n",
              "3  ce5b3d1c531348c5d0d8e859b6d0cf91  ...        1\n",
              "4  ce5b3d1c531348c5d0d8e859b6d0cf91  ...        1\n",
              "\n",
              "[5 rows x 9 columns]"
            ]
          },
          "metadata": {
            "tags": []
          },
          "execution_count": 5
        }
      ]
    },
    {
      "cell_type": "markdown",
      "metadata": {
        "id": "HzQVPPf2STkE"
      },
      "source": [
        "Clients and materials id mappings:"
      ]
    },
    {
      "cell_type": "code",
      "metadata": {
        "id": "ppoLmSQgSY0h"
      },
      "source": [
        "clients_map = {client_id: i for i, client_id in enumerate(df_clients.client_id.values)}\n",
        "materials_map = {material: i for i, material in enumerate(df_materials.material.values)}\n",
        "\n",
        "materials_fields_maps = {}\n",
        "for col in ['hier_level_1', 'hier_level_2', 'hier_level_3', 'hier_level_4', 'vendor']:\n",
        "    val2id = {\n",
        "        value: i for i, value in enumerate(df_materials[col].unique())\n",
        "    }\n",
        "    materials_fields_maps[col] = {\n",
        "        materials_map[row[0]]: val2id[row[1]] for row in df_materials[['material', col]].values\n",
        "    }\n",
        "    materials_fields_maps[col + '_ids'] = val2id\n",
        "    materials_fields_maps[col + '_ids_inv'] = {x[1]: x[0] for x in val2id.items()}"
      ],
      "execution_count": 6,
      "outputs": []
    },
    {
      "cell_type": "markdown",
      "metadata": {
        "id": "9HuQ9tA7SAxv"
      },
      "source": [
        "Adding new fields to the transactions table + filtering some rows"
      ]
    },
    {
      "cell_type": "code",
      "metadata": {
        "id": "T0-isotkR_fo",
        "outputId": "93eba56b-5583-405b-c2a9-36c9cb6b4c8d",
        "colab": {
          "base_uri": "https://localhost:8080/",
          "height": 68
        }
      },
      "source": [
        "# remove returns\n",
        "df_transactions = df_transactions[df_transactions.sales_count > 0.]\n",
        "print(df_transactions.shape)\n",
        "\n",
        "# filter transactions by available client and material data\n",
        "df_transactions = df_transactions[df_transactions.client_id.isin(clients_map)]\n",
        "print(df_transactions.shape)\n",
        "\n",
        "df_transactions = df_transactions[df_transactions.material.isin(materials_map)]\n",
        "print(df_transactions.shape)\n",
        "\n",
        "# merge with materials\n",
        "# df_transactions = df_transactions.merge(df_materials)\n",
        "# df_transactions.sort_values(by=['chq_date'], inplace=True)\n",
        "\n",
        "# add week information\n",
        "df_transactions['week'] = df_transactions['chq_date'].apply(lambda x: x.isocalendar()[1])\n",
        "\n",
        "# add product price\n",
        "# df_transactions['material_price'] = df_transactions.sales_sum / df_transactions.sales_count"
      ],
      "execution_count": 7,
      "outputs": [
        {
          "output_type": "stream",
          "text": [
            "(32086641, 9)\n",
            "(32085025, 9)\n",
            "(32072077, 9)\n"
          ],
          "name": "stdout"
        }
      ]
    },
    {
      "cell_type": "code",
      "metadata": {
        "id": "vQhvQYPTThHR",
        "outputId": "89b46143-185f-4742-d045-a7face3422a0",
        "colab": {
          "base_uri": "https://localhost:8080/",
          "height": 309
        }
      },
      "source": [
        "df_transactions.head()"
      ],
      "execution_count": 8,
      "outputs": [
        {
          "output_type": "execute_result",
          "data": {
            "text/html": [
              "<div>\n",
              "<style scoped>\n",
              "    .dataframe tbody tr th:only-of-type {\n",
              "        vertical-align: middle;\n",
              "    }\n",
              "\n",
              "    .dataframe tbody tr th {\n",
              "        vertical-align: top;\n",
              "    }\n",
              "\n",
              "    .dataframe thead th {\n",
              "        text-align: right;\n",
              "    }\n",
              "</style>\n",
              "<table border=\"1\" class=\"dataframe\">\n",
              "  <thead>\n",
              "    <tr style=\"text-align: right;\">\n",
              "      <th></th>\n",
              "      <th>chq_id</th>\n",
              "      <th>plant</th>\n",
              "      <th>chq_date</th>\n",
              "      <th>chq_position</th>\n",
              "      <th>client_id</th>\n",
              "      <th>material</th>\n",
              "      <th>sales_count</th>\n",
              "      <th>sales_sum</th>\n",
              "      <th>is_promo</th>\n",
              "      <th>week</th>\n",
              "    </tr>\n",
              "  </thead>\n",
              "  <tbody>\n",
              "    <tr>\n",
              "      <th>0</th>\n",
              "      <td>ce5b3d1c531348c5d0d8e859b6d0cf91</td>\n",
              "      <td>7cd86ecb09aa48c6e620b340f6a74592</td>\n",
              "      <td>2016-11-01</td>\n",
              "      <td>004</td>\n",
              "      <td>90fca68123e692a005a4edeadd94b2f2</td>\n",
              "      <td>232cfe8b28970434f685b737737b26d4</td>\n",
              "      <td>2.0</td>\n",
              "      <td>146.98</td>\n",
              "      <td>0</td>\n",
              "      <td>44</td>\n",
              "    </tr>\n",
              "    <tr>\n",
              "      <th>1</th>\n",
              "      <td>ce5b3d1c531348c5d0d8e859b6d0cf91</td>\n",
              "      <td>7cd86ecb09aa48c6e620b340f6a74592</td>\n",
              "      <td>2016-11-01</td>\n",
              "      <td>003</td>\n",
              "      <td>90fca68123e692a005a4edeadd94b2f2</td>\n",
              "      <td>12ec64451b8e426db16f3f05ea770901</td>\n",
              "      <td>1.0</td>\n",
              "      <td>249.99</td>\n",
              "      <td>1</td>\n",
              "      <td>44</td>\n",
              "    </tr>\n",
              "    <tr>\n",
              "      <th>2</th>\n",
              "      <td>ce5b3d1c531348c5d0d8e859b6d0cf91</td>\n",
              "      <td>7cd86ecb09aa48c6e620b340f6a74592</td>\n",
              "      <td>2016-11-01</td>\n",
              "      <td>012</td>\n",
              "      <td>90fca68123e692a005a4edeadd94b2f2</td>\n",
              "      <td>1212ff8ecf53aebef093ca8ae216db68</td>\n",
              "      <td>1.0</td>\n",
              "      <td>47.99</td>\n",
              "      <td>1</td>\n",
              "      <td>44</td>\n",
              "    </tr>\n",
              "    <tr>\n",
              "      <th>3</th>\n",
              "      <td>ce5b3d1c531348c5d0d8e859b6d0cf91</td>\n",
              "      <td>7cd86ecb09aa48c6e620b340f6a74592</td>\n",
              "      <td>2016-11-01</td>\n",
              "      <td>013</td>\n",
              "      <td>90fca68123e692a005a4edeadd94b2f2</td>\n",
              "      <td>1212ff8ecf53aebef093ca8ae216db68</td>\n",
              "      <td>1.0</td>\n",
              "      <td>47.99</td>\n",
              "      <td>1</td>\n",
              "      <td>44</td>\n",
              "    </tr>\n",
              "    <tr>\n",
              "      <th>4</th>\n",
              "      <td>ce5b3d1c531348c5d0d8e859b6d0cf91</td>\n",
              "      <td>7cd86ecb09aa48c6e620b340f6a74592</td>\n",
              "      <td>2016-11-01</td>\n",
              "      <td>011</td>\n",
              "      <td>90fca68123e692a005a4edeadd94b2f2</td>\n",
              "      <td>571c6d3b559db8445e05265649eb30ab</td>\n",
              "      <td>2.0</td>\n",
              "      <td>53.98</td>\n",
              "      <td>1</td>\n",
              "      <td>44</td>\n",
              "    </tr>\n",
              "  </tbody>\n",
              "</table>\n",
              "</div>"
            ],
            "text/plain": [
              "                             chq_id  ... week\n",
              "0  ce5b3d1c531348c5d0d8e859b6d0cf91  ...   44\n",
              "1  ce5b3d1c531348c5d0d8e859b6d0cf91  ...   44\n",
              "2  ce5b3d1c531348c5d0d8e859b6d0cf91  ...   44\n",
              "3  ce5b3d1c531348c5d0d8e859b6d0cf91  ...   44\n",
              "4  ce5b3d1c531348c5d0d8e859b6d0cf91  ...   44\n",
              "\n",
              "[5 rows x 10 columns]"
            ]
          },
          "metadata": {
            "tags": []
          },
          "execution_count": 8
        }
      ]
    },
    {
      "cell_type": "markdown",
      "metadata": {
        "id": "rS_8fPLsD6BE"
      },
      "source": [
        "# Recommendation models\n",
        "\n",
        "Collaborative filtering using Alternating Least Squares and `implicit` package.\n",
        "\n",
        "The models are built from the transaction data for each client with the following levels of item granularity:\n",
        "\n",
        "- `material`s (products)\n",
        "- `hier_level_2` categories\n",
        "- `hier_level_3` categories\n",
        "- `hier_level_4` categories\n",
        "- `vendor`s\n",
        "\n",
        "Using multiple models we can offer recommendations with various levels of product description: from raw product to categories. This approach allows to build personalized tasks based on categories, vendors or products and product descriptions themselves."
      ]
    },
    {
      "cell_type": "markdown",
      "metadata": {
        "id": "7MV5nvAh2OZs"
      },
      "source": [
        "## Model fit"
      ]
    },
    {
      "cell_type": "code",
      "metadata": {
        "id": "8jSaVuNLGI-g"
      },
      "source": [
        "from scipy.sparse import coo_matrix\n",
        "import implicit\n",
        "\n",
        "def fit_als_model(field, alpha_val=15, factors=64, regularization=0.1, iterations=50, random_state=0):\n",
        "    if field == 'material':\n",
        "        items = materials\n",
        "    else:\n",
        "        items = materials.apply(lambda x: materials_fields_maps[field][x])\n",
        "\n",
        "    user_item = coo_matrix((np.ones_like(clients), (clients, items))).tocsr()\n",
        "    item_user = user_item.T\n",
        "\n",
        "    model = implicit.als.AlternatingLeastSquares(\n",
        "        factors=factors, regularization=regularization, iterations=iterations,\n",
        "        calculate_training_loss=True, random_state=random_state\n",
        "    )\n",
        "\n",
        "    data_conf = (item_user * alpha_val).astype('double')\n",
        "    model.fit(data_conf)\n",
        "\n",
        "    return model, user_item"
      ],
      "execution_count": 9,
      "outputs": []
    },
    {
      "cell_type": "code",
      "metadata": {
        "id": "QhQ7RKxQVGoI"
      },
      "source": [
        "clients = df_transactions.client_id\n",
        "materials = df_transactions.material\n",
        "\n",
        "# map to integer ids\n",
        "clients = clients.apply(lambda x: clients_map[x])\n",
        "materials = materials.apply(lambda x: materials_map[x])"
      ],
      "execution_count": 10,
      "outputs": []
    },
    {
      "cell_type": "code",
      "metadata": {
        "id": "V6B7-us9JzpS",
        "outputId": "d3c912e1-8a46-4004-ce71-17fbfb30ed17",
        "colab": {
          "base_uri": "https://localhost:8080/",
          "height": 299,
          "referenced_widgets": [
            "8b15191521444c119e09e0835a4b3d8d",
            "fa5cc740311348038c6430c5107f9e55",
            "12bba62c50bb4f6f9eacf45577421e63",
            "2b82dd7b76df40f49dddd0e7be924d42",
            "37c4e2e6f69d488f874aabdb3ad56d8b",
            "865ee6eb728f4c758b1b216a9c948ebc",
            "e120a7dfd93642329baca9489ba344d5",
            "6fbca20075a2402fa70440d273536ea8",
            "bdbc265393ef437e89a60f11558704c4",
            "805b20051eb64ba5bf81830c90a95b28",
            "60b53df9a6924419ba432649b4bf317a",
            "c3b5bb63d999448b8bc7fb92d926ac26",
            "fa8e88e0db4241c3b2661580e7ec9fe8",
            "c8649c6a988d493fbd8eb3480658a90d",
            "aedd34e2b9ad4edfb16d05fbe860c45f",
            "0dd485be380e42ce8c618190dc1ecfe6",
            "d44c69fa6f3447f6bab7b7a472e28a49",
            "fbb9a1b56971491d89d7120d3f71e9b6",
            "34be84e1d62d4027aba4d93ec6d4f666",
            "b6f30c2486984455beea7fbfd9acb435",
            "fb56cd01630b46449b5712f198934e19",
            "6093cb60755c4c42aff7b4a6ea3d46ee",
            "00d9f0e0700d4623b3957e81d52b660c",
            "bdaee322e0c7495b9bbdd2998e68e52e",
            "56c692b46c1e44eb908c1cc5a1edbbfb",
            "14e7f2c62261400e919df44926b51a08",
            "65af489a91b0436a80da2f5c8ecdefa0",
            "f8be648e8d464aa7b06ff1c194b25452",
            "b368f467a4a046319a7143531028cf93",
            "7a503fb0a1ee4dab9e1d64720594f4d3",
            "5c3c3eda8c434996b9e1ca838ccc1b51",
            "081e99b5604f4cbeaeb6ded8b5ae6d90",
            "87752b6385a149098d22d7625c0990e2",
            "34ec497dd9144e39bbf0d8d649ffba50",
            "5d302f9b63064e698056ceda4b5d0493",
            "b9ca299b86334db6b94abcee15d66a43",
            "370a299331464cfe8a4af0c233197aea",
            "964256a9676b448298987ea68f5934d7",
            "30aae8c1bfa84002a297cab74a7cdb39",
            "606fe4b0a35040af933dfa9e6468bc74"
          ]
        }
      },
      "source": [
        "model_material, user_item_material = fit_als_model(field='material', factors=64)\n",
        "model_hier_2, user_item_hier_2 = fit_als_model(field='hier_level_2', alpha_val=1., factors=32)\n",
        "model_hier_3, user_item_hier_3 = fit_als_model(field='hier_level_3', alpha_val=1., factors=32)\n",
        "model_hier_4, user_item_hier_4 = fit_als_model(field='hier_level_4', alpha_val=1., factors=32)\n",
        "model_vendor, user_item_vendor = fit_als_model(field='vendor', alpha_val=1., factors=32)"
      ],
      "execution_count": 11,
      "outputs": [
        {
          "output_type": "stream",
          "text": [
            "WARNING:root:OpenBLAS detected. Its highly recommend to set the environment variable 'export OPENBLAS_NUM_THREADS=1' to disable its internal multithreading\n"
          ],
          "name": "stderr"
        },
        {
          "output_type": "display_data",
          "data": {
            "application/vnd.jupyter.widget-view+json": {
              "model_id": "8b15191521444c119e09e0835a4b3d8d",
              "version_minor": 0,
              "version_major": 2
            },
            "text/plain": [
              "HBox(children=(FloatProgress(value=0.0, max=50.0), HTML(value='')))"
            ]
          },
          "metadata": {
            "tags": []
          }
        },
        {
          "output_type": "stream",
          "text": [
            "\n"
          ],
          "name": "stdout"
        },
        {
          "output_type": "display_data",
          "data": {
            "application/vnd.jupyter.widget-view+json": {
              "model_id": "bdbc265393ef437e89a60f11558704c4",
              "version_minor": 0,
              "version_major": 2
            },
            "text/plain": [
              "HBox(children=(FloatProgress(value=0.0, max=50.0), HTML(value='')))"
            ]
          },
          "metadata": {
            "tags": []
          }
        },
        {
          "output_type": "stream",
          "text": [
            "\n"
          ],
          "name": "stdout"
        },
        {
          "output_type": "display_data",
          "data": {
            "application/vnd.jupyter.widget-view+json": {
              "model_id": "d44c69fa6f3447f6bab7b7a472e28a49",
              "version_minor": 0,
              "version_major": 2
            },
            "text/plain": [
              "HBox(children=(FloatProgress(value=0.0, max=50.0), HTML(value='')))"
            ]
          },
          "metadata": {
            "tags": []
          }
        },
        {
          "output_type": "stream",
          "text": [
            "\n"
          ],
          "name": "stdout"
        },
        {
          "output_type": "display_data",
          "data": {
            "application/vnd.jupyter.widget-view+json": {
              "model_id": "56c692b46c1e44eb908c1cc5a1edbbfb",
              "version_minor": 0,
              "version_major": 2
            },
            "text/plain": [
              "HBox(children=(FloatProgress(value=0.0, max=50.0), HTML(value='')))"
            ]
          },
          "metadata": {
            "tags": []
          }
        },
        {
          "output_type": "stream",
          "text": [
            "\n"
          ],
          "name": "stdout"
        },
        {
          "output_type": "display_data",
          "data": {
            "application/vnd.jupyter.widget-view+json": {
              "model_id": "87752b6385a149098d22d7625c0990e2",
              "version_minor": 0,
              "version_major": 2
            },
            "text/plain": [
              "HBox(children=(FloatProgress(value=0.0, max=50.0), HTML(value='')))"
            ]
          },
          "metadata": {
            "tags": []
          }
        },
        {
          "output_type": "stream",
          "text": [
            "\n"
          ],
          "name": "stdout"
        }
      ]
    },
    {
      "cell_type": "markdown",
      "metadata": {
        "id": "AgQejwu4F81q"
      },
      "source": [
        "## Recommendation function\n",
        "\n",
        "The whole power of multiple recommendation models and customization in one function:"
      ]
    },
    {
      "cell_type": "code",
      "metadata": {
        "id": "rDA0uMIf6KTm"
      },
      "source": [
        "def recommend_items(model, user_item, client_id, field='material', N=10, top_k=None, \n",
        "                        mode='all', only_positive=True, **filters):\n",
        "    \"\"\"Recommend items based on the conditions.\n",
        "    \n",
        "    Args:\n",
        "        model: ALS model\n",
        "        user_item: sparse user-item matrix\n",
        "        client_id: integer id of the client for whom recomendations should be computed\n",
        "        field: model and recommendations levels, possible options: \n",
        "            `material`, `hier_level_2`, `hier_level_3`, `hier_level_4`, `vendor`\n",
        "        N: how many (maximum) items to recommend\n",
        "        top_k: (optional) how many items to consider in the whole set of items\n",
        "            (to speed up computations)\n",
        "        mode: operation mode, possible options: \n",
        "            `all` -- all items (including bought in the past)\n",
        "            `bought` -- consider only bought items\n",
        "            `novel` -- only new items\n",
        "        only_positive: consider only items with positive recomendation scores\n",
        "        **filters: optional `field=value` filters for `materials`\n",
        "    \"\"\"\n",
        "    result = []\n",
        "\n",
        "    ranked_items = model.rank_items(0, user_item, np.arange(user_item.shape[1]))\n",
        "    top_k = len(ranked_items) if top_k is None else top_k\n",
        "\n",
        "    for i, (item_id, score) in enumerate(ranked_items[:top_k]):\n",
        "        # get material purchase frequency from the transactions\n",
        "        frequency = user_item.getrow(client_id).getcol(item_id).toarray()[0][0]\n",
        "\n",
        "        # filter by operation mode\n",
        "        if mode == 'bought' and frequency == 0:\n",
        "            continue\n",
        "        elif mode == 'novel' and frequency > 0:\n",
        "            continue\n",
        "        elif only_positive and score < 0.:\n",
        "            break\n",
        "\n",
        "        if field == 'material':\n",
        "            item = df_materials.iloc[item_id]\n",
        "\n",
        "            # filter by provided fields\n",
        "            skip_item = False\n",
        "            for key, value in filters.items():\n",
        "                if key in item and item[key] != value:\n",
        "                    skip_item = True\n",
        "                    break\n",
        "            if skip_item:\n",
        "                continue\n",
        "        else:\n",
        "            item = materials_fields_maps[field + '_ids_inv'][item_id]\n",
        "\n",
        "        # all good, save recommended item\n",
        "        result.append({\n",
        "            'overall_rank': i,\n",
        "            'item_id': item_id,\n",
        "            'item': item,\n",
        "            'score': score,\n",
        "            'frequency': frequency,\n",
        "        })\n",
        "\n",
        "        if len(result) == N:\n",
        "            break\n",
        "\n",
        "    return result"
      ],
      "execution_count": 12,
      "outputs": []
    },
    {
      "cell_type": "markdown",
      "metadata": {
        "id": "tAqOdi9-wI8h"
      },
      "source": [
        "Testing the function:"
      ]
    },
    {
      "cell_type": "code",
      "metadata": {
        "id": "lY_ObzimMibV",
        "outputId": "9173f8a9-3f66-4012-df97-de9bc2863ed8",
        "colab": {
          "base_uri": "https://localhost:8080/",
          "height": 476
        }
      },
      "source": [
        "recommend_items(\n",
        "    model_material, user_item_material, client_id=0, field='material',\n",
        "    N=3, top_k=10000,\n",
        "    mode='bought', # 'all', 'bought', 'novel'\n",
        "    # is_private_label=True,\n",
        "    # is_alco=True,\n",
        "    hier_level_1='FOOD',\n",
        "    # hier_level_2='33e75ff09dd601bbe69f351039152189',\n",
        "    # hier_level_4='29a90297dcc11ab043a1ffb971246c08'\n",
        ")"
      ],
      "execution_count": 13,
      "outputs": [
        {
          "output_type": "execute_result",
          "data": {
            "text/plain": [
              "[{'frequency': 2, 'item': material            a2ddcb2c3c8c4eb128286e8e552b4996\n",
              "  hier_level_1                                    FOOD\n",
              "  hier_level_2        33e75ff09dd601bbe69f351039152189\n",
              "  hier_level_3        a3788c8c64fd65c470e23e7534c3ebc8\n",
              "  hier_level_4        29a90297dcc11ab043a1ffb971246c08\n",
              "  vendor              fff50291dc19f2ba2c6ad287a41f90b1\n",
              "  is_private_label                                   0\n",
              "  is_alco                                            1\n",
              "  Name: 11175, dtype: object, 'item_id': 11175, 'overall_rank': 1, 'score': 1.1545928},\n",
              " {'frequency': 1, 'item': material            8f4b2b5d481140b01c5b20bbf493b2b9\n",
              "  hier_level_1                                    FOOD\n",
              "  hier_level_2        c16a5320fa475530d9583c34fd356ef5\n",
              "  hier_level_3        62f91ce9b820a491ee78c108636db089\n",
              "  hier_level_4        508648865001185b6a704e553c44b0d7\n",
              "  vendor              af2302acfdaa5fa4a65222265856f7af\n",
              "  is_private_label                                   0\n",
              "  is_alco                                            0\n",
              "  Name: 11600, dtype: object, 'item_id': 11600, 'overall_rank': 5, 'score': 1.0568337},\n",
              " {'frequency': 2, 'item': material            ab17bf24039893348f6b9f23753f38ca\n",
              "  hier_level_1                                    FOOD\n",
              "  hier_level_2        9bf31c7ff062936a96d3c8bd1f8f2ff3\n",
              "  hier_level_3        49b8b4f95f02e055801da3b4f58e28b7\n",
              "  hier_level_4        e94a47ca37c29b6dfd4ae9b8a7c2f730\n",
              "  vendor              9ec3b6c6e71076363116c808e80c7032\n",
              "  is_private_label                                   0\n",
              "  is_alco                                            0\n",
              "  Name: 33280, dtype: object, 'item_id': 33280, 'overall_rank': 9, 'score': 1.033158}]"
            ]
          },
          "metadata": {
            "tags": []
          },
          "execution_count": 13
        }
      ]
    },
    {
      "cell_type": "code",
      "metadata": {
        "id": "EMwQ4eBZMmzh",
        "outputId": "9ebe2deb-a40e-4e69-fd66-0b1164984b8e",
        "colab": {
          "base_uri": "https://localhost:8080/",
          "height": 442
        }
      },
      "source": [
        "recommend_items(\n",
        "    model_hier_2, user_item_hier_2, client_id=0, field='hier_level_2',\n",
        "    N=5, mode='novel', # 'all', 'bought', 'novel',\n",
        ")"
      ],
      "execution_count": 14,
      "outputs": [
        {
          "output_type": "execute_result",
          "data": {
            "text/plain": [
              "[{'frequency': 0,\n",
              "  'item': '70efdf2ec9b086079795c442636b55fb',\n",
              "  'item_id': 6,\n",
              "  'overall_rank': 16,\n",
              "  'score': 0.99013186},\n",
              " {'frequency': 0,\n",
              "  'item': '6364d3f0f495b6ab9dcf8d3b5c6e0b01',\n",
              "  'item_id': 36,\n",
              "  'overall_rank': 26,\n",
              "  'score': 0.9742024},\n",
              " {'frequency': 0,\n",
              "  'item': '3c59dc048e8850243be8079a5c74d079',\n",
              "  'item_id': 52,\n",
              "  'overall_rank': 34,\n",
              "  'score': 0.15559483},\n",
              " {'frequency': 0,\n",
              "  'item': '03afdbd66e7929b125f8597834fa83a4',\n",
              "  'item_id': 2,\n",
              "  'overall_rank': 35,\n",
              "  'score': 0.13063186},\n",
              " {'frequency': 0,\n",
              "  'item': '1f0e3dad99908345f7439f8ffabdffc4',\n",
              "  'item_id': 56,\n",
              "  'overall_rank': 36,\n",
              "  'score': 0.10043204}]"
            ]
          },
          "metadata": {
            "tags": []
          },
          "execution_count": 14
        }
      ]
    },
    {
      "cell_type": "code",
      "metadata": {
        "id": "lYF6jU5OwUyN",
        "outputId": "65587459-9f2e-4bef-c295-b0a44c944068",
        "colab": {
          "base_uri": "https://localhost:8080/",
          "height": 442
        }
      },
      "source": [
        "recommend_items(\n",
        "    model_vendor, user_item_vendor, client_id=0, field='vendor',\n",
        "    N=5, mode='all', # 'all', 'bought', 'novel',\n",
        ")"
      ],
      "execution_count": 15,
      "outputs": [
        {
          "output_type": "execute_result",
          "data": {
            "text/plain": [
              "[{'frequency': 4,\n",
              "  'item': '630ff52a66ba2631c24227d775580871',\n",
              "  'item_id': 541,\n",
              "  'overall_rank': 0,\n",
              "  'score': 1.0886554},\n",
              " {'frequency': 5,\n",
              "  'item': 'a7a236a9bc4cfba23a7895109c6333b0',\n",
              "  'item_id': 1585,\n",
              "  'overall_rank': 1,\n",
              "  'score': 1.0589583},\n",
              " {'frequency': 6,\n",
              "  'item': 'a3d2de7675556553a5f08e4c88d2c228',\n",
              "  'item_id': 63,\n",
              "  'overall_rank': 2,\n",
              "  'score': 1.0441481},\n",
              " {'frequency': 12,\n",
              "  'item': '555b60081984bd59d637c5f6b4aa3bdb',\n",
              "  'item_id': 1582,\n",
              "  'overall_rank': 3,\n",
              "  'score': 1.0360183},\n",
              " {'frequency': 3,\n",
              "  'item': '3e9e3d22f8052f4eb926f2f82c226ed2',\n",
              "  'item_id': 542,\n",
              "  'overall_rank': 4,\n",
              "  'score': 1.0155807}]"
            ]
          },
          "metadata": {
            "tags": []
          },
          "execution_count": 15
        }
      ]
    },
    {
      "cell_type": "markdown",
      "metadata": {
        "id": "9zBZARuGr_1C"
      },
      "source": [
        "# Tasks\n",
        "\n",
        "Examples of tasks with provided task generation and check functions."
      ]
    },
    {
      "cell_type": "code",
      "metadata": {
        "id": "ZG6Vqnj7zMDi",
        "outputId": "efcd91c7-8651-4719-832c-55a79ffab968",
        "colab": {
          "base_uri": "https://localhost:8080/",
          "height": 102
        }
      },
      "source": [
        "# specify a client\n",
        "client_idx = np.random.randint(0, len(clients_map)) # 15712\n",
        "client = df_clients.iloc[client_idx]\n",
        "client_id = client.client_id\n",
        "print(client)"
      ],
      "execution_count": 36,
      "outputs": [
        {
          "output_type": "stream",
          "text": [
            "client_id    d951b9ab6386d315e43a3740751d7f31\n",
            "gender                                      F\n",
            "city                                    Other\n",
            "birthyear                                1964\n",
            "Name: 65421, dtype: object\n"
          ],
          "name": "stdout"
        }
      ]
    },
    {
      "cell_type": "code",
      "metadata": {
        "id": "6qe0oRhg60sz"
      },
      "source": [
        "# get last client check for demonstration purposes\n",
        "def get_last_check(client_id):\n",
        "    client_transactions = df_transactions[df_transactions.client_id == client_id].sort_values('chq_date')\n",
        "    chq_id = client_transactions.iloc[-1].chq_id\n",
        "    check = client_transactions[client_transactions.chq_id == chq_id]\n",
        "\n",
        "    return check"
      ],
      "execution_count": 17,
      "outputs": []
    },
    {
      "cell_type": "markdown",
      "metadata": {
        "id": "9YQeshAjw8gz"
      },
      "source": [
        "###***Buy and rate***\n",
        "\n",
        "Goal: Recommending known and previously bought products to rate them in the app"
      ]
    },
    {
      "cell_type": "code",
      "metadata": {
        "id": "tsJLtdw5VEQh"
      },
      "source": [
        "def get_buy_and_rate_task(client_id, mode='bought'):\n",
        "    print(f'*Buy and rate ({mode} product)*\\n')\n",
        "\n",
        "    material_names = recommend_items(\n",
        "        model_material, user_item_material, client_id=client_id, field='material',\n",
        "        N=1, top_k=10000,\n",
        "        mode=mode, # 'all', 'bought', 'novel'\n",
        "    )\n",
        "\n",
        "    mat_list = list(map(lambda x: x['material'], list(map(lambda x: x['item'], material_names))))\n",
        "    material = mat_list[0]\n",
        "    print(f'Buy {material} and rate it on our app')\n",
        "\n",
        "    return material\n",
        "\n",
        "def check_buy_and_rate_task(client_id, material_task):\n",
        "    check = get_last_check(client_id)\n",
        "    materials_bought = set(check.material.unique())\n",
        "    # + checking if material was rated\n",
        "    return material_task in materials_bought"
      ],
      "execution_count": 18,
      "outputs": []
    },
    {
      "cell_type": "markdown",
      "metadata": {
        "id": "okKqmqmu6FpL"
      },
      "source": [
        "#### *Buy and rate (known materials)*\n",
        "\n",
        "Task: Buy a `proposed/recommended` material and rate it on our app.\n",
        "\n",
        "Implementation: Suggest \"bought\" with high recommendation score"
      ]
    },
    {
      "cell_type": "code",
      "metadata": {
        "id": "Q4gMW67Y2y2a",
        "outputId": "cf1806b4-f103-4170-8ad9-baed6f1661c6",
        "colab": {
          "base_uri": "https://localhost:8080/",
          "height": 68
        }
      },
      "source": [
        "material_brk = get_buy_and_rate_task(client_idx)"
      ],
      "execution_count": 19,
      "outputs": [
        {
          "output_type": "stream",
          "text": [
            "*Buy and rate (bought product)*\n",
            "\n",
            "Buy 1eb4a5458f072b09012fcc10f2a6f86f and rate it on our app\n"
          ],
          "name": "stdout"
        }
      ]
    },
    {
      "cell_type": "markdown",
      "metadata": {
        "id": "3lYuNcIcE8Gs"
      },
      "source": [
        "Check task completion based on the last receipt:"
      ]
    },
    {
      "cell_type": "code",
      "metadata": {
        "id": "qKeeRF6WE8Gu",
        "outputId": "9fe901fc-7f1f-4b8f-f8f4-0289710044dc",
        "colab": {
          "base_uri": "https://localhost:8080/",
          "height": 34
        }
      },
      "source": [
        "success_brk = check_buy_and_rate_task(client_id, material_brk)\n",
        "print(f'Task completed: {success_brk}')"
      ],
      "execution_count": 20,
      "outputs": [
        {
          "output_type": "stream",
          "text": [
            "Task completed: True\n"
          ],
          "name": "stdout"
        }
      ]
    },
    {
      "cell_type": "markdown",
      "metadata": {
        "id": "ctyEG5mI6f-1"
      },
      "source": [
        "#### *Buy and rate (novel materials)*\n",
        "\n",
        "Task: Buy a `proposed/recommended` material and rate it on our app.\n",
        "\n",
        "Implementation: Suggest \"novel\" with high recommendation score"
      ]
    },
    {
      "cell_type": "code",
      "metadata": {
        "id": "gdcN5sff6rKu",
        "outputId": "65b50a5c-1741-4ad8-b2e0-3e44e1742fa7",
        "colab": {
          "base_uri": "https://localhost:8080/",
          "height": 68
        }
      },
      "source": [
        "material_brn = get_buy_and_rate_task(client_idx, mode='novel')"
      ],
      "execution_count": 21,
      "outputs": [
        {
          "output_type": "stream",
          "text": [
            "*Buy and rate (novel product)*\n",
            "\n",
            "Buy 604de26b1dc3282336e925e9ab50d184 and rate it on our app\n"
          ],
          "name": "stdout"
        }
      ]
    },
    {
      "cell_type": "markdown",
      "metadata": {
        "id": "xk1hWGWNFY6J"
      },
      "source": [
        "Check task completion based on the last receipt.\n",
        "\n",
        "Note: no success since we suggest to buy products in novel categories"
      ]
    },
    {
      "cell_type": "code",
      "metadata": {
        "id": "C3oRWx15FY6K",
        "outputId": "4984aa24-81fb-4b72-8027-1198da4ec4bd",
        "colab": {
          "base_uri": "https://localhost:8080/",
          "height": 34
        }
      },
      "source": [
        "success_brn = check_buy_and_rate_task(client_id, material_brn)\n",
        "print(f'Task completed: {success_brn}')"
      ],
      "execution_count": 22,
      "outputs": [
        {
          "output_type": "stream",
          "text": [
            "Task completed: False\n"
          ],
          "name": "stdout"
        }
      ]
    },
    {
      "cell_type": "markdown",
      "metadata": {
        "id": "u-xboCxEzFH9"
      },
      "source": [
        "###***Fan of Lenta's goods*** \n",
        "\n",
        "Task: Buy `proposed/recommended` Lenta's products.\n",
        "\n",
        "Implementation: Recommend few Lenta's goods."
      ]
    },
    {
      "cell_type": "code",
      "metadata": {
        "id": "OCvkMN2EzMXn"
      },
      "source": [
        "def get_fan_of_lenta_task(client_id, num_materials=3, mode='bought'):\n",
        "    print(f\"*Fan of Lenta's goods ({mode} products)*\")\n",
        "\n",
        "    material_names = recommend_items(\n",
        "        model_material, user_item_material, client_id=client_id, field='material',\n",
        "        N=num_materials, top_k=10000,\n",
        "        mode=mode, # 'all', 'bought', 'novel'\n",
        "        is_private_label=1\n",
        "    )\n",
        "\n",
        "    materials = list(map(lambda x: x['material'], list(map(lambda x: x['item'], material_names))))\n",
        "    print(\"Buy at least one of the following Lenta's products:\\n\")\n",
        "    print('Example products:')\n",
        "    for m in materials:\n",
        "        print(f' - {m}')\n",
        "    return materials\n",
        "\n",
        "def check_fan_of_lenta_task(client_id, materials_task):\n",
        "    check = get_last_check(client_id)\n",
        "    materials_bought = set(check.material.unique())\n",
        "    materials_task = set(materials_task)\n",
        "    materials_intersection = materials_task.intersection(materials_bought)\n",
        "    return len(materials_intersection) >= 1, materials_intersection"
      ],
      "execution_count": 23,
      "outputs": []
    },
    {
      "cell_type": "code",
      "metadata": {
        "id": "uWUldvuQ7xd5",
        "outputId": "46b1f1ea-98e6-44eb-dc28-0c51a3704b8a",
        "colab": {
          "base_uri": "https://localhost:8080/",
          "height": 136
        }
      },
      "source": [
        "materials_fl = get_fan_of_lenta_task(client_idx, num_materials=3, mode='novel')"
      ],
      "execution_count": 24,
      "outputs": [
        {
          "output_type": "stream",
          "text": [
            "*Fan of Lenta's goods (novel products)*\n",
            "Buy at least one of the following Lenta's products:\n",
            "\n",
            "Example products:\n",
            " - 604de26b1dc3282336e925e9ab50d184\n",
            " - 2ecb95feadeda76e0198f0ad0c3b991d\n",
            " - b75147feae4cf8ec07fb5f2cef855def\n"
          ],
          "name": "stdout"
        }
      ]
    },
    {
      "cell_type": "markdown",
      "metadata": {
        "id": "BGrss195GwzO"
      },
      "source": [
        "Check task completion based on the last receipt:"
      ]
    },
    {
      "cell_type": "code",
      "metadata": {
        "id": "PdwacnI8GwzP",
        "outputId": "89e0a9e1-cb8c-42f7-ea38-dc945d8fc1b4",
        "colab": {
          "base_uri": "https://localhost:8080/",
          "height": 68
        }
      },
      "source": [
        "success_fl, materials_fl_success = check_fan_of_lenta_task(\n",
        "    client_id, materials_fl\n",
        ")\n",
        "print(f'Task completed: {success_fl}')\n",
        "print(f'Bought {len(materials_fl_success)} asked Lenta products:\\n {materials_fl_success}')"
      ],
      "execution_count": 25,
      "outputs": [
        {
          "output_type": "stream",
          "text": [
            "Task completed: False\n",
            "Bought 0 asked Lenta products:\n",
            " set()\n"
          ],
          "name": "stdout"
        }
      ]
    },
    {
      "cell_type": "markdown",
      "metadata": {
        "id": "LhzSaEMH0ad1"
      },
      "source": [
        "###***New vendor***\n",
        "\n",
        "Task: Buy goods of `proposed/recommended` vendors.\n",
        "\n",
        "Implementation: Recommend few vendors."
      ]
    },
    {
      "cell_type": "code",
      "metadata": {
        "id": "sfur0omv0elA"
      },
      "source": [
        "def get_new_vendor_task(client_id, num_vendors=3, mode='novel'):\n",
        "    print(f\"*New vendor ({mode} products)*\")\n",
        "\n",
        "    vendor_names = recommend_items(\n",
        "        model_vendor, user_item_vendor, client_id=client_id, field='vendor',\n",
        "        N=num_vendors, mode=mode # 'all', 'bought', 'novel',\n",
        "    )\n",
        "    vendors = list(map(lambda x: x['item'], vendor_names))\n",
        "    print(\"Buy goods at least of the one of the following vendors:\\n\")\n",
        "    print('Example vendors:')\n",
        "    for m in  vendors:\n",
        "        print(f' - {m}')\n",
        "    return vendors\n",
        "\n",
        "def check_new_vendor_task(client_id, vendors_task):\n",
        "    check = get_last_check(client_id)\n",
        "    vendors_bought = check.material\\\n",
        "        .apply(lambda x: materials_map[x])\\\n",
        "        .apply(lambda x: materials_fields_maps['vendor'][x])\\\n",
        "        .apply(lambda x: materials_fields_maps['vendor_ids_inv'][x]).unique()\n",
        "    vendors_bought = set(vendors_bought)\n",
        "    vendors_task = set(vendors_task)\n",
        "    vendors_intersection = vendors_task.intersection(vendors_bought)\n",
        "    return len(vendors_intersection) >= 1, vendors_intersection"
      ],
      "execution_count": 26,
      "outputs": []
    },
    {
      "cell_type": "code",
      "metadata": {
        "id": "_au8VQtO-nDF",
        "outputId": "b9925cd9-e647-4a84-ffc9-f7dce4b1425e",
        "colab": {
          "base_uri": "https://localhost:8080/",
          "height": 136
        }
      },
      "source": [
        "vendors_nv = get_new_vendor_task(client_idx, num_vendors=3, mode='novel')"
      ],
      "execution_count": 27,
      "outputs": [
        {
          "output_type": "stream",
          "text": [
            "*New vendor (novel products)*\n",
            "Buy goods at least of the one of the following vendors:\n",
            "\n",
            "Example vendors:\n",
            " - 630ff52a66ba2631c24227d775580871\n",
            " - a7a236a9bc4cfba23a7895109c6333b0\n",
            " - a3d2de7675556553a5f08e4c88d2c228\n"
          ],
          "name": "stdout"
        }
      ]
    },
    {
      "cell_type": "markdown",
      "metadata": {
        "id": "C7Zy0ajRH-lM"
      },
      "source": [
        "Check task completion based on the last receipt:"
      ]
    },
    {
      "cell_type": "code",
      "metadata": {
        "id": "X22Rjo4GH-lN",
        "outputId": "87641444-2753-434f-a3dd-6d9f799cde88",
        "colab": {
          "base_uri": "https://localhost:8080/",
          "height": 68
        }
      },
      "source": [
        "success_nv, vendors_nv_success = check_new_vendor_task(\n",
        "    client_id, vendors_nv\n",
        ")\n",
        "print(f'Task completed: {success_nv}')\n",
        "print(f'Bought {len(vendors_nv_success)} asked vendors\\' products:\\n {vendors_nv_success}')"
      ],
      "execution_count": 28,
      "outputs": [
        {
          "output_type": "stream",
          "text": [
            "Task completed: False\n",
            "Bought 0 asked vendors' products:\n",
            " set()\n"
          ],
          "name": "stdout"
        }
      ]
    },
    {
      "cell_type": "markdown",
      "metadata": {
        "id": "NAsYgTx0_k0g"
      },
      "source": [
        "###***Diversity in category***\n",
        "\n",
        "Task: Buy goods from one of the `proposed/recommended` categories.\n",
        "\n",
        "Implementation: Recommend few categories."
      ]
    },
    {
      "cell_type": "code",
      "metadata": {
        "id": "2hoTdNa5_lop"
      },
      "source": [
        "from collections import Counter\n",
        "\n",
        "def get_diversity_in_category_task(client_id, num_categories=2, num_required=1, num_examples=3, mode='all'):\n",
        "    print(f'*Diversity in category task ({mode} products)*')\n",
        "    mode_message = 'previously purchased' if mode == 'bought' else 'novel for you'\n",
        "    print(f'Buy at least 4 different goods from one of the following hier_level_2 categories at a time:\\n')\n",
        "\n",
        "    categories = recommend_items(\n",
        "        model_hier_2, user_item_hier_2, client_id=client_id, field='hier_level_2',\n",
        "        N=num_categories, mode=mode, # 'all', 'bought', 'novel',\n",
        "    )\n",
        "    category_names = list(map(lambda x: x['item'], categories))\n",
        "    for cat_name in category_names:\n",
        "        print(f' - {cat_name}')\n",
        "\n",
        "    return category_names\n",
        "\n",
        "def check_diversity_in_category_task(client_id, categories_task, num_required_materials=4):\n",
        "    check = get_last_check(client_id)\n",
        "    categories_bought = check.material\\\n",
        "        .apply(lambda x: materials_map[x])\\\n",
        "        .apply(lambda x: materials_fields_maps['hier_level_2'][x])\\\n",
        "        .apply(lambda x: materials_fields_maps['hier_level_2_ids_inv'][x])\n",
        "    categories_count = Counter(categories_bought)\n",
        "\n",
        "    for cat_name in categories_task:\n",
        "        if cat_name in categories_count and categories_count[cat_name] >= num_required_materials:\n",
        "            return True, cat_name, categories_count[cat_name]\n",
        "    return False, None, 0"
      ],
      "execution_count": 29,
      "outputs": []
    },
    {
      "cell_type": "code",
      "metadata": {
        "id": "e0HH8o54AXbK",
        "outputId": "b9b6f71e-6861-4939-c311-38d514387e1f",
        "colab": {
          "base_uri": "https://localhost:8080/",
          "height": 102
        }
      },
      "source": [
        "num_categories = 2\n",
        "num_required = 1\n",
        "num_required_materials = 4\n",
        "\n",
        "categories_dc = get_diversity_in_category_task(\n",
        "    client_idx, num_categories=num_categories, num_required=num_required, \n",
        "    num_examples=3, mode='all'\n",
        ")"
      ],
      "execution_count": 30,
      "outputs": [
        {
          "output_type": "stream",
          "text": [
            "*Diversity in category task (all products)*\n",
            "Buy at least 4 different goods from one of the following hier_level_2 categories at a time:\n",
            "\n",
            " - 642e92efb79421734881b53e1e1b18b6\n",
            " - 67c6a1e7ce56d3d6fa748ab6d9af3fd7\n"
          ],
          "name": "stdout"
        }
      ]
    },
    {
      "cell_type": "markdown",
      "metadata": {
        "id": "0tTRaSL1K4xc"
      },
      "source": [
        "Check task completion based on the last receipt:"
      ]
    },
    {
      "cell_type": "code",
      "metadata": {
        "id": "D68eoBtLK4xd",
        "outputId": "b1f2f117-648b-4792-b5e8-782fdfc51284",
        "colab": {
          "base_uri": "https://localhost:8080/",
          "height": 34
        }
      },
      "source": [
        "success_dc, category_dc_success, num_dc_success = check_diversity_in_category_task(\n",
        "    client_id, categories_dc, num_required_materials=num_required_materials\n",
        ")\n",
        "print(f'Task completed: {success_dc}')\n",
        "if success_dc:\n",
        "    print(f'Bought {num_dc_success} products in category {category_dc_success}')"
      ],
      "execution_count": 31,
      "outputs": [
        {
          "output_type": "stream",
          "text": [
            "Task completed: False\n"
          ],
          "name": "stdout"
        }
      ]
    },
    {
      "cell_type": "markdown",
      "metadata": {
        "id": "t9w-OGhHsBQc"
      },
      "source": [
        "### ***Diverse Basket***\n",
        "\n",
        "Goal: Enforce buying products from different categories"
      ]
    },
    {
      "cell_type": "code",
      "metadata": {
        "id": "BY7ocSadsmCv"
      },
      "source": [
        "def get_diverse_basket_task(client_id, num_categories=5, num_required=3, num_examples=3, mode='bought'):\n",
        "    print(f'*Diverse Basket task ({mode} products)*')\n",
        "    mode_message = 'previously purchased' if mode == 'bought' else 'novel for you'\n",
        "    print(f'Fill your cart with products from at least {num_required}/{num_categories} '\n",
        "          f'{mode_message} hier_level_2 categories:')\n",
        "\n",
        "    categories = recommend_items(\n",
        "        model_hier_2, user_item_hier_2, client_id=client_id, field='hier_level_2',\n",
        "        N=num_categories, mode=mode, # 'all', 'bought', 'novel',\n",
        "    )\n",
        "\n",
        "    category_names = list(map(lambda x: x['item'], categories))\n",
        "    for cat_name in category_names:\n",
        "        print(f'\\nCategory {cat_name}\\nExample products: ')\n",
        "\n",
        "        if num_examples:\n",
        "            cat_materials = recommend_items(\n",
        "                model_material, user_item_material, client_id=client_id, field='material',\n",
        "                N=num_examples, top_k=10000,\n",
        "                mode='all', # 'all', 'bought', 'novel'\n",
        "                hier_level_2=cat_name,\n",
        "            )\n",
        "\n",
        "            for i, m in enumerate(cat_materials):\n",
        "                print(f' - {m[\"item\"][\"material\"]}')\n",
        "\n",
        "    return category_names\n",
        "    \n",
        "\n",
        "def check_diverse_basket_task(client_id, categories_task, num_required=3):\n",
        "    check = get_last_check(client_id)\n",
        "    categories_bought = check.material\\\n",
        "        .apply(lambda x: materials_map[x])\\\n",
        "        .apply(lambda x: materials_fields_maps['hier_level_2'][x])\\\n",
        "        .apply(lambda x: materials_fields_maps['hier_level_2_ids_inv'][x]).unique()\n",
        "    categories_bought = set(categories_bought)\n",
        "    categories_task = set(categories_task)\n",
        "    categories_intersection = categories_task.intersection(categories_bought)\n",
        "    return len(categories_intersection) >= num_required, categories_intersection"
      ],
      "execution_count": 34,
      "outputs": []
    },
    {
      "cell_type": "markdown",
      "metadata": {
        "id": "-3Y3S46G3ZWX"
      },
      "source": [
        "#### *Diverse Basket (known categories)*\n",
        "\n",
        "Task: Fill your cart with products from at least 7/10 previously bought `hier_level_2` categories.\n",
        "\n",
        "Implementation: Recommend 10 `hier_level_2` \"bought\" categories and optionally suggest few goods from each category:"
      ]
    },
    {
      "cell_type": "code",
      "metadata": {
        "id": "xwjTvDCz0YUa",
        "outputId": "5a69b7a8-ba55-4167-a008-ceee8931ac70",
        "colab": {
          "base_uri": "https://localhost:8080/",
          "height": 1000
        }
      },
      "source": [
        "num_categories = 10\n",
        "num_required = 7\n",
        "num_examples = 3\n",
        "\n",
        "categories_dbk = get_diverse_basket_task(\n",
        "    client_idx, num_categories=num_categories, num_required=num_required, \n",
        "    num_examples=num_examples, mode='bought'\n",
        ")"
      ],
      "execution_count": 37,
      "outputs": [
        {
          "output_type": "stream",
          "text": [
            "*Diverse Basket task (bought products)*\n",
            "Fill your cart with products from at least 7/10 previously purchased hier_level_2 categories:\n",
            "10\n",
            "\n",
            "Category 34173cb38f07f89ddbebc2ac9128303f\n",
            "Example products: \n",
            " - 9817112604594b376adf135efe787bbc\n",
            " - 19056d14d938838ccff7c13c48d37285\n",
            " - 96293d6eb5849a7fe116b8a184af58cb\n",
            "\n",
            "Category fc490ca45c00b1249bbe3554a4fdf6fb\n",
            "Example products: \n",
            " - a870783c7818cc9a3b4a45f13e3036da\n",
            " - 35fb842aa9089ffd980a306df35bf533\n",
            " - c6a6fed3cabbe8efd41135033f9d0961\n",
            "\n",
            "Category 02e74f10e0327ad868d138f2b4fdd6f0\n",
            "Example products: \n",
            " - e0f04658c07ce064eccc97ce6c0e3d7f\n",
            " - a8149429fb72f9518cdb560b3cf62425\n",
            " - f09b39028a61179e455fa9c072397a65\n",
            "\n",
            "Category 4e732ced3463d06de0ca9a15b6153677\n",
            "Example products: \n",
            " - 376eec543ce52c6af676b423b9914c25\n",
            " - 4b54e5205b767664f161323eb2ceed20\n",
            " - 9422d8ab9ac239bdc841cd84e87e29ab\n",
            "\n",
            "Category 70efdf2ec9b086079795c442636b55fb\n",
            "Example products: \n",
            " - ccf83ea1c9a46a646aebeeefee8ba014\n",
            " - dad9cb5d93d49b56e940e1a9d275f9fd\n",
            " - b4090db225b288f1ce5346424d9863b4\n",
            "\n",
            "Category 8e296a067a37563370ded05f5a3bf3ec\n",
            "Example products: \n",
            " - 7ff4d25fcbdba033c06e2ba25ae6fc77\n",
            " - 0e2823baca6c23c591c96e7399a74ae6\n",
            " - 5990ff82a506593bbb99742f250844e2\n",
            "\n",
            "Category 182be0c5cdcd5072bb1864cdee4d3d6e\n",
            "Example products: \n",
            " - 14f9669f6e03e603124e0831bd7efaa8\n",
            " - 9173da8e939ede60364e66dd6e244dd4\n",
            " - b425a2142a3ba9b12733e914df807135\n",
            "\n",
            "Category d645920e395fedad7bbbed0eca3fe2e0\n",
            "Example products: \n",
            " - b75147feae4cf8ec07fb5f2cef855def\n",
            " - 9997280c0ccb5ad7d1e9955cf8f495f8\n",
            " - 7877acbef0f206533bccc6c7dc3fc9b6\n",
            "\n",
            "Category c16a5320fa475530d9583c34fd356ef5\n",
            "Example products: \n",
            " - 8f4b2b5d481140b01c5b20bbf493b2b9\n",
            " - 867b66971eeca54526571bd51ba3cc64\n",
            " - 8230aaeb57e52b80413424a7ac1b5f88\n",
            "\n",
            "Category 6364d3f0f495b6ab9dcf8d3b5c6e0b01\n",
            "Example products: \n",
            " - 92c77ef0ad96da2bcf81e5f8d854e40b\n",
            " - bd3231068b73a1e9303f3e68705540b5\n",
            " - 34b2b0706163451a09a18a71998231ff\n"
          ],
          "name": "stdout"
        }
      ]
    },
    {
      "cell_type": "markdown",
      "metadata": {
        "id": "iEx4NvYkAiHc"
      },
      "source": [
        "Check task completion based on the last receipt:"
      ]
    },
    {
      "cell_type": "code",
      "metadata": {
        "id": "HjXiICYxAs_l",
        "outputId": "9303c55f-419a-4551-817c-515eb35a84b3",
        "colab": {
          "base_uri": "https://localhost:8080/",
          "height": 68
        }
      },
      "source": [
        "success_dbk, categories_dbk_success = check_diverse_basket_task(\n",
        "    client_id, categories_dbk, num_required=num_required\n",
        ")\n",
        "print(f'Task completed: {success_dbk}')\n",
        "print(f'Bought in the following {len(categories_dbk_success)} categories:\\n {categories_dbk_success}')"
      ],
      "execution_count": 38,
      "outputs": [
        {
          "output_type": "stream",
          "text": [
            "Task completed: False\n",
            "Bought in the following 2 categories:\n",
            " {'70efdf2ec9b086079795c442636b55fb', '34173cb38f07f89ddbebc2ac9128303f'}\n"
          ],
          "name": "stdout"
        }
      ]
    },
    {
      "cell_type": "markdown",
      "metadata": {
        "id": "zLNlXJiI31jq"
      },
      "source": [
        "#### *Diverse Basket (novel categories)*\n",
        "\n",
        "Task: Fill your cart with products from at least 1/2 novel `hier_level_2` categories.\n",
        "\n",
        "Implementation: Recommend 2 `hier_level_2` novel categories and optionally suggest few goods from each category:"
      ]
    },
    {
      "cell_type": "code",
      "metadata": {
        "id": "AswoNKH322zN",
        "outputId": "2120457e-8ec1-4537-edb8-d8d4bbedd273",
        "colab": {
          "base_uri": "https://localhost:8080/",
          "height": 272
        }
      },
      "source": [
        "num_categories = 2\n",
        "num_required = 1\n",
        "num_examples = 3\n",
        "\n",
        "categories_dbn = get_diverse_basket_task(\n",
        "    client_idx, num_categories=num_categories, num_required=num_required, \n",
        "    num_examples=num_examples, mode='novel'\n",
        ")"
      ],
      "execution_count": 39,
      "outputs": [
        {
          "output_type": "stream",
          "text": [
            "*Diverse Basket task (novel products)*\n",
            "Fill your cart with products from at least 1/2 novel for you hier_level_2 categories:\n",
            "2\n",
            "\n",
            "Category 642e92efb79421734881b53e1e1b18b6\n",
            "Example products: \n",
            " - 564840544bef2c259cf7a0642ab97b2e\n",
            " - 662a483a37bda6993a3be40ad0f12d95\n",
            " - a68c3af6a344b97f58973b2a8a815e3a\n",
            "\n",
            "Category 67c6a1e7ce56d3d6fa748ab6d9af3fd7\n",
            "Example products: \n",
            " - d217bef07f10f8e4610d71f509e6eb2a\n",
            " - 6d4a10434dcdd00fe8ac96487d1a2997\n",
            " - 2e995e794c8de54aae8facf99d5d1421\n"
          ],
          "name": "stdout"
        }
      ]
    },
    {
      "cell_type": "markdown",
      "metadata": {
        "id": "M_06XvqoBcpk"
      },
      "source": [
        "Check task completion based on the last receipt.\n",
        "\n",
        "Note: no success since we suggest to buy products in novel categories"
      ]
    },
    {
      "cell_type": "code",
      "metadata": {
        "id": "OBicGXmCBcpm",
        "outputId": "ae62100f-4dd7-4178-85ab-98c797465e98",
        "colab": {
          "base_uri": "https://localhost:8080/",
          "height": 68
        }
      },
      "source": [
        "success_dbn, categories_dbn_success  = check_diverse_basket_task(\n",
        "    client_id, categories_dbn, num_required=num_required\n",
        ")\n",
        "print(f'Task completed: {success_dbn}')\n",
        "print(f'Bought in the following {len(categories_dbn_success)} categories:\\n {categories_dbn_success}')"
      ],
      "execution_count": 40,
      "outputs": [
        {
          "output_type": "stream",
          "text": [
            "Task completed: False\n",
            "Bought in the following 0 categories:\n",
            " set()\n"
          ],
          "name": "stdout"
        }
      ]
    },
    {
      "cell_type": "markdown",
      "metadata": {
        "id": "dG57LucyMrTs"
      },
      "source": [
        "# Achievements\n",
        "\n",
        "Example achievements in the proposed system with achievement validation functions:"
      ]
    },
    {
      "cell_type": "markdown",
      "metadata": {
        "id": "TBCyEzLCNNDX"
      },
      "source": [
        "###***Krusenstern***\n",
        "\n",
        "Description: Visit more than 3 Lenta stores"
      ]
    },
    {
      "cell_type": "code",
      "metadata": {
        "id": "3CNnqOkQM6Us"
      },
      "source": [
        "def check_krusenstern(client_data, num_places=3):\n",
        "    '''Visit more than `num_places` Lenta stores'''\n",
        "    num_different_places = client_data['plant'].unique().shape[0]\n",
        "    return num_different_places >= num_places"
      ],
      "execution_count": 41,
      "outputs": []
    },
    {
      "cell_type": "markdown",
      "metadata": {
        "id": "jOFUWcmyNijA"
      },
      "source": [
        "###***PartyGoer***\n",
        "\n",
        "Description: Buy alcohol on more than 10000 rubles"
      ]
    },
    {
      "cell_type": "code",
      "metadata": {
        "id": "gy9hx4iUN1vk"
      },
      "source": [
        "def check_partygoer(client_data, check_sum=10000):\n",
        "    '''Buy alcohol on more than `check_sum` rubles'''\n",
        "    sales_sum = client_data[client_data['is_alco']==1]['sales_sum']\n",
        "    return np.sum(sales_sum) > check_sum"
      ],
      "execution_count": 42,
      "outputs": []
    },
    {
      "cell_type": "markdown",
      "metadata": {
        "id": "AqsaIyYNN4HB"
      },
      "source": [
        "###***Sweet Tooth***\n",
        "\n",
        "Description: Buy sweets on >500 rubles"
      ]
    },
    {
      "cell_type": "code",
      "metadata": {
        "id": "6OeQhSxtOCtd"
      },
      "source": [
        "def check_sweet_tooth(client_data, min_sum=500):\n",
        "    '''Buy sweets on >`min_sum` rubles'''\n",
        "    sweet_id = df_materials['material'][1] # for example\n",
        "    sales_sum = client_data[client_data['material']==sweet_id]['sales_sum']\n",
        "    return np.sum(sales_sum) > min_sum"
      ],
      "execution_count": 43,
      "outputs": []
    },
    {
      "cell_type": "markdown",
      "metadata": {
        "id": "vYrSo---OOS4"
      },
      "source": [
        "###***Greta Thunberg***\n",
        "\n",
        "Description: Buy 10 reusable bags"
      ]
    },
    {
      "cell_type": "code",
      "metadata": {
        "id": "KoeaAZyuOOS5"
      },
      "source": [
        "def check_greta_thunberg(client_data, num_bags=10):\n",
        "    '''Buy `num_bags` reusable bags'''\n",
        "    reusable_bags_id = df_materials['material'][0] # for example\n",
        "    sales_count = client_data[client_data['material']==reusable_bags_id]['sales_count']\n",
        "    return np.sum(sales_count) >= num_bags"
      ],
      "execution_count": 44,
      "outputs": []
    },
    {
      "cell_type": "markdown",
      "metadata": {
        "id": "uXanCr6gOr7T"
      },
      "source": [
        "###***Milk King***\n",
        "\n",
        "Description: Buy all brands of Milk"
      ]
    },
    {
      "cell_type": "code",
      "metadata": {
        "id": "OatozkWOOr7U"
      },
      "source": [
        "def check_milk_king(client_data):\n",
        "    '''Buy all brands of Milk'''\n",
        "    hier_level_3_id_milk = df_materials['hier_level_3'][0] # for example\n",
        "    full_amount_of_milk_products = df_materials[df_materials['hier_level_3']==hier_level_3_id_milk]['hier_level_4'].unique()\n",
        "    user_amount_of_milk_products = client_data[client_data['hier_level_3']==hier_level_3_id_milk]['hier_level_4'].unique()\n",
        "    return set(full_amount_of_milk_products).issubset(user_amount_of_milk_products)"
      ],
      "execution_count": 45,
      "outputs": []
    },
    {
      "cell_type": "markdown",
      "metadata": {
        "id": "ivAETDipO1wS"
      },
      "source": [
        "###***Lucky Devil***\n",
        "\n",
        "Description: Use discounts 300 times"
      ]
    },
    {
      "cell_type": "code",
      "metadata": {
        "id": "FMbR4NIMO1wT"
      },
      "source": [
        "def check_lucky_devil(client_data, num_times=300):\n",
        "    '''Use discounts `num_times` times'''\n",
        "    promo_sum = client_data['is_promo'].sum()\n",
        "    return promo_sum > num_times"
      ],
      "execution_count": 46,
      "outputs": []
    },
    {
      "cell_type": "markdown",
      "metadata": {
        "id": "r7lRJ_ypPE84"
      },
      "source": [
        "###***Loyal Customer***\n",
        "\n",
        "Description: Buy something in Lenta N=`num_weeks` weeks in a row"
      ]
    },
    {
      "cell_type": "code",
      "metadata": {
        "id": "8xyAjosGPE85"
      },
      "source": [
        "from itertools import groupby\n",
        "\n",
        "def check_loyal_customer(client_data, num_weeks=4): \n",
        "    '''Buy something in Lenta N=`num_weeks` weeks in a row'''\n",
        "    list_of_weeks = client_data['week']\n",
        "    purchases_weeks = [el for el, _ in groupby(list_of_weeks)]\n",
        "    count=0\n",
        "    four_week_in_row = False\n",
        "    for i in range(len(purchases_weeks)-1):\n",
        "        if purchases_weeks[i]== purchases_weeks[i+1]-1:\n",
        "            count+=1\n",
        "        else:\n",
        "            count = 0\n",
        "        if count == num_weeks:\n",
        "            four_week_in_row = True\n",
        "            break\n",
        "    return four_week_in_row"
      ],
      "execution_count": 47,
      "outputs": []
    },
    {
      "cell_type": "markdown",
      "metadata": {
        "id": "GFC2JinuPUdr"
      },
      "source": [
        "## Check achivements of an arbitrary client"
      ]
    },
    {
      "cell_type": "code",
      "metadata": {
        "id": "7nj5r1SLPjuJ"
      },
      "source": [
        "achievement_funcs = {\n",
        "    'Krusenstern': check_krusenstern,\n",
        "    'PartyGoer': check_partygoer,\n",
        "    'Sweet Tooth': check_sweet_tooth,\n",
        "    'Greta Thunberg': check_greta_thunberg,\n",
        "    'Milk King': check_milk_king,\n",
        "    'Lucky Devil': check_lucky_devil,\n",
        "    'Loyal Customer': check_loyal_customer\n",
        "}"
      ],
      "execution_count": 48,
      "outputs": []
    },
    {
      "cell_type": "code",
      "metadata": {
        "id": "Ja9BM5dBPflT",
        "outputId": "0e45e264-0a9c-4a83-ce22-910414a6d40c",
        "colab": {
          "base_uri": "https://localhost:8080/",
          "height": 102
        }
      },
      "source": [
        "# specify a client\n",
        "client_idx = 73281 #np.random.randint(0, len(clients_map))\n",
        "client = df_clients.iloc[client_idx]\n",
        "client_id = client.client_id\n",
        "print(client)"
      ],
      "execution_count": 75,
      "outputs": [
        {
          "output_type": "stream",
          "text": [
            "client_id    7fe963af1319898ffd8c8fdaaed31be4\n",
            "gender                                      F\n",
            "city                                    Other\n",
            "birthyear                                1957\n",
            "Name: 73281, dtype: object\n"
          ],
          "name": "stdout"
        }
      ]
    },
    {
      "cell_type": "code",
      "metadata": {
        "id": "pK-l4_tLPlYZ",
        "outputId": "0778c2c2-88a6-48b1-8eea-ee35f02fa340",
        "colab": {
          "base_uri": "https://localhost:8080/",
          "height": 153
        }
      },
      "source": [
        "def check_achievements(client_id):\n",
        "    client_achivements = {}\n",
        "    client_data = df_transactions[df_transactions['client_id']==client_id]\n",
        "    client_data = client_data.merge(df_materials)\n",
        "    for name, func in achievement_funcs.items():\n",
        "        client_achivements[name] = func(client_data)\n",
        "    return client_achivements\n",
        "\n",
        "client_achivements = check_achievements(client_id)\n",
        "print('Client achievements:')\n",
        "client_achivements"
      ],
      "execution_count": 76,
      "outputs": [
        {
          "output_type": "stream",
          "text": [
            "Client achievements:\n"
          ],
          "name": "stdout"
        },
        {
          "output_type": "execute_result",
          "data": {
            "text/plain": [
              "{'Greta Thunberg': False,\n",
              " 'Krusenstern': True,\n",
              " 'Loyal Customer': True,\n",
              " 'Lucky Devil': False,\n",
              " 'Milk King': False,\n",
              " 'PartyGoer': False,\n",
              " 'Sweet Tooth': False}"
            ]
          },
          "metadata": {
            "tags": []
          },
          "execution_count": 76
        }
      ]
    },
    {
      "cell_type": "markdown",
      "metadata": {
        "id": "w-0iEGwcX6id"
      },
      "source": [
        "# Model evalution\n",
        "\n",
        "Small bits of model evaluation based on held-out transactions and MAP@K score."
      ]
    },
    {
      "cell_type": "code",
      "metadata": {
        "id": "DN5TWTkoX8AF"
      },
      "source": [
        "from implicit.evaluation import precision_at_k, mean_average_precision_at_k, train_test_split\n",
        "from implicit.als import AlternatingLeastSquares\n",
        "from implicit.datasets.movielens import get_movielens"
      ],
      "execution_count": 114,
      "outputs": []
    },
    {
      "cell_type": "markdown",
      "metadata": {
        "id": "8uCB2zTzbNdr"
      },
      "source": [
        "`hier_level_2`: MAP@10"
      ]
    },
    {
      "cell_type": "code",
      "metadata": {
        "id": "0E4Fj_AsmT-G",
        "outputId": "a9523c5a-b523-48b6-bdfa-c661b2f01417",
        "colab": {
          "base_uri": "https://localhost:8080/",
          "height": 132,
          "referenced_widgets": [
            "d7deffcb894e41868ceda9975c737117",
            "6840a25f58594de98cb2f77237f7b688",
            "2760461d42d640fea6e72321533a202c",
            "8f29d71489e641809367a37b68da04f9",
            "b854d42d23314f09932cb044c1d874f0",
            "ccfdb3721275487fb933276cde645520",
            "d046e466cc6b44e5b3a016db76ecf8be",
            "3d7e5c63573c4931bc73ed44546b87b7",
            "ff92cf7e5f22476983eb28ce15185f6d",
            "83c6c234405e428b8cb852ff938db121",
            "b70d292f15364f768d0baa99b1971918",
            "2794be38e90344fba7af4ab4caca708c",
            "b0847fc2505441e3887510a18be7837f",
            "2674a2c51435479f8c71e9031588eada",
            "9faab4d9f27c44a3a56e14509e12ca75",
            "5d9161ac83264b4b9dfe815ef8f0c7a9"
          ]
        }
      },
      "source": [
        "train, test = train_test_split(user_item_hier_2.T, 0.8)\n",
        "\n",
        "model = AlternatingLeastSquares(factors=32, regularization=0.1, iterations=50)\n",
        "model.fit(train)\n",
        "\n",
        "map_10 = mean_average_precision_at_k(model, train.T.tocsr(), test.T.tocsr(), K=10, num_threads=5)\n",
        "map_10"
      ],
      "execution_count": null,
      "outputs": [
        {
          "output_type": "display_data",
          "data": {
            "application/vnd.jupyter.widget-view+json": {
              "model_id": "d7deffcb894e41868ceda9975c737117",
              "version_minor": 0,
              "version_major": 2
            },
            "text/plain": [
              "HBox(children=(FloatProgress(value=0.0, max=50.0), HTML(value='')))"
            ]
          },
          "metadata": {
            "tags": []
          }
        },
        {
          "output_type": "stream",
          "text": [
            "\n"
          ],
          "name": "stdout"
        },
        {
          "output_type": "display_data",
          "data": {
            "application/vnd.jupyter.widget-view+json": {
              "model_id": "ff92cf7e5f22476983eb28ce15185f6d",
              "version_minor": 0,
              "version_major": 2
            },
            "text/plain": [
              "HBox(children=(FloatProgress(value=0.0, max=99995.0), HTML(value='')))"
            ]
          },
          "metadata": {
            "tags": []
          }
        },
        {
          "output_type": "stream",
          "text": [
            "\n"
          ],
          "name": "stdout"
        },
        {
          "output_type": "execute_result",
          "data": {
            "text/plain": [
              "0.4334339727530992"
            ]
          },
          "metadata": {
            "tags": []
          },
          "execution_count": 154
        }
      ]
    },
    {
      "cell_type": "markdown",
      "metadata": {
        "id": "AWbz_-CxbWNX"
      },
      "source": [
        "`material`: MAP@10"
      ]
    },
    {
      "cell_type": "code",
      "metadata": {
        "id": "B_S_dKLncP4N",
        "outputId": "21751a35-112b-4045-aad8-311cfe0f6fc0",
        "colab": {
          "base_uri": "https://localhost:8080/",
          "height": 132,
          "referenced_widgets": [
            "829a3e1cf7ae4f4caa8cc1de37e75328",
            "179cd08e94c04ac5996f37603ca4a127",
            "c155664588de45ada479e7d8d8365e76",
            "f1ad34f9742e4cd48f013810c4fa595f",
            "5d4ca0ac39fe4b4a8cbef64f52926c53",
            "2d53eae7dac04e45a51385da6f2dff3a",
            "58a1c8373fc5424698c237427662315e",
            "1185439e0fd84498848d8c82d1fe91ee",
            "89cdf51480c845c89ceae0f1f823a6b0",
            "af38a188266b4c60b7b171648a75b73b",
            "07a05cf31bd74fbab8475624da417764",
            "7611bae51c2a4fe98ae39176f78cfba1",
            "91fed26783f7443f8e8d426d39ec3566",
            "d9183ea5177e4e529c5b4e2829961848",
            "d9677adcf8e74af1b136a05c80c8a1a2",
            "6dc47e40807d4e70a15ca327583dac8f"
          ]
        }
      },
      "source": [
        "train, test = train_test_split(user_item_material.T, 0.8)\n",
        "\n",
        "model = AlternatingLeastSquares(factors=32, regularization=0.1, iterations=50)\n",
        "model.fit(train)\n",
        "\n",
        "map_10 = mean_average_precision_at_k(model, train.T.tocsr(), test.T.tocsr(), K=10, num_threads=)\n",
        "map_10"
      ],
      "execution_count": null,
      "outputs": [
        {
          "output_type": "display_data",
          "data": {
            "application/vnd.jupyter.widget-view+json": {
              "model_id": "829a3e1cf7ae4f4caa8cc1de37e75328",
              "version_minor": 0,
              "version_major": 2
            },
            "text/plain": [
              "HBox(children=(FloatProgress(value=0.0, max=50.0), HTML(value='')))"
            ]
          },
          "metadata": {
            "tags": []
          }
        },
        {
          "output_type": "stream",
          "text": [
            "\n"
          ],
          "name": "stdout"
        },
        {
          "output_type": "display_data",
          "data": {
            "application/vnd.jupyter.widget-view+json": {
              "model_id": "89cdf51480c845c89ceae0f1f823a6b0",
              "version_minor": 0,
              "version_major": 2
            },
            "text/plain": [
              "HBox(children=(FloatProgress(value=0.0, max=99995.0), HTML(value='')))"
            ]
          },
          "metadata": {
            "tags": []
          }
        },
        {
          "output_type": "stream",
          "text": [
            "\n"
          ],
          "name": "stdout"
        },
        {
          "output_type": "execute_result",
          "data": {
            "text/plain": [
              "0.09698819018992372"
            ]
          },
          "metadata": {
            "tags": []
          },
          "execution_count": 150
        }
      ]
    }
  ]
}